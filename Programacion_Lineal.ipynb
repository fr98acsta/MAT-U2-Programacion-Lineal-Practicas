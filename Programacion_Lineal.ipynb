{
 "cells": [
  {
   "cell_type": "markdown",
   "metadata": {},
   "source": [
    "#  UNIDAD 2 - PROGRAMACION LINEAR\n",
    "\n",
    "Ejercicios de la Undad 2 de Matematicas de Ciencias Sociales de 2ºBach\n",
    "\n",
    "---"
   ]
  },
  {
   "cell_type": "markdown",
   "metadata": {},
   "source": [
    "## Tabla de Contenidos\n",
    "  \n",
    "  1. [Problema l ](#1) \n",
    "   \n",
    "   \n",
    "  2. [Problema 2 ](#2)\n",
    "\n",
    "\n",
    "  3. [Problema 3 ](#3)\n",
    "  \n",
    "  \n",
    "  4. [Problema 4 ](#43)\n",
    "\n",
    "### Adicional:\n",
    "\n",
    "<a href=\"http://www.juntadeandalucia.es/educacion/permanente/materiales/index.php?etapa=4&materia=278&unidad=2#space\" class=\"badge badge-primary\">Recursos</a>\n",
    "<a href=\"http://agrega.juntadeandalucia.es/visualizador-1/Visualizar/Visualizar.do?identificador=es-an_2018081912_9111322&secuencia=true\" class=\"badge badge-success\">Problemas</a>\n",
    "<a href=\"https://nbviewer.jupyter.org/github/fr98acsta/Mat-Programacion-Lineal/blob/master/Mates_Unidad_2.ipynb\" class=\"badge badge-info\">Practicas Unidad 2</a>\n"
   ]
  },
  {
   "cell_type": "code",
   "execution_count": 1,
   "metadata": {},
   "outputs": [],
   "source": [
    "from sympy.solvers import solve\n",
    "from sympy import Symbol\n",
    "import re\n",
    "from pulp import * \n",
    "import numpy as np\n",
    "import sympy as sp\n",
    "import matplotlib.pyplot as plt\n",
    "sp.init_printing()\n"
   ]
  },
  {
   "cell_type": "markdown",
   "metadata": {},
   "source": [
    "### Clase Plot Interseccion Lineal"
   ]
  },
  {
   "cell_type": "code",
   "execution_count": 2,
   "metadata": {},
   "outputs": [
    {
     "ename": "IndentationError",
     "evalue": "expected an indented block (<ipython-input-2-f0a229421d25>, line 108)",
     "output_type": "error",
     "traceback": [
      "\u001b[1;36m  File \u001b[1;32m\"<ipython-input-2-f0a229421d25>\"\u001b[1;36m, line \u001b[1;32m108\u001b[0m\n\u001b[1;33m    b = np.append([self.nn],[])\u001b[0m\n\u001b[1;37m    ^\u001b[0m\n\u001b[1;31mIndentationError\u001b[0m\u001b[1;31m:\u001b[0m expected an indented block\n"
     ]
    }
   ],
   "source": [
    "class Interseccion() :\n",
    "    eqs = []\n",
    "    nn = []\n",
    "    flag = True\n",
    "    count=0\n",
    "    x=0\n",
    "    y=0\n",
    "    \n",
    "    def __init__(self):\n",
    "\n",
    "        while self.flag:\n",
    "            txt = input(\"Introduce la primera ecuacion: \")\n",
    "            if txt == 'q':\n",
    "                self.flag = False\n",
    "            else:\n",
    "\n",
    "                #Check if the string contains any digits (numbers from 0-9):\n",
    "                x_t = re.sub(\"(\\Ax?)x\", lambda y: \"+1x\" if y.group() == \"x\" else \"-1x\", txt)\n",
    "                x_t = re.sub(\"=(x?)x\", lambda y: \"=+1x\" if y.group() == \"=x\" else \"=-1x\", x_t)\n",
    "                x_t = re.sub(\"([-]+[x]?|[+]+[x]?)x\", lambda y: \"-1y\" if y.group() == \"-x\" else \"+1x\", x_t)\n",
    "                x = re.findall(\"(\\d+[x]?|[-]+\\d+[x]?|[+]+\\d+[x]?)x|=\", x_t)\n",
    "                print(x)\n",
    "\n",
    "                igual = x.index(\"\")\n",
    "                x[igual]='='\n",
    "                #print(x)\n",
    "\n",
    "                # x[:igual]\n",
    "                # x[igual+1:]\n",
    "                x_d = map(float, x[:igual])\n",
    "                x_i = map(float, x[igual+1:])\n",
    "\n",
    "                x_d = sum(x_d)\n",
    "                #print(x_d)\n",
    "                x_i = sum(x_i)\n",
    "                #print(x_i)\t\n",
    "\n",
    "                x_fin=x_d-x_i\n",
    "                #print(x_fin)\n",
    "\n",
    "                ###################\n",
    "\n",
    "\n",
    "                y_t = re.sub(\"(\\Ay?)y\", lambda y: \"+1y\" if y.group() == \"y\" else \"-1y\", txt)\n",
    "                y_t = re.sub(\"=(y?)y\", lambda y: \"=+1y\" if y.group() == \"=y\" else \"=-1y\", y_t)\n",
    "                y_t = re.sub(\"([-]+[y]?|[+]+[y]?)y\", lambda y: \"-1y\" if y.group() == \"-y\" else \"+1y\", y_t)\n",
    "                y = re.findall(\"(\\d+[y]?|[-]+\\d+[y]?|[+]+\\d+[y]?)y|=\", y_t)\n",
    "                #print(y)\n",
    "\n",
    "                igual = y.index(\"\")\n",
    "                y[igual]='='\n",
    "                #print(y)\n",
    "\n",
    "                # y[:igual]\n",
    "                # y[igual+1:]\n",
    "                y_d = map(float, y[:igual])\n",
    "                y_i = map(float, y[igual+1:])\n",
    "\n",
    "                y_d = sum(y_d)\n",
    "                #print(y_d)\n",
    "                y_i = sum(y_i)\n",
    "                #print(y_i)\t\n",
    "\n",
    "                y_fin=y_d-y_i\n",
    "                #print(y_fin)\n",
    "\n",
    "                #################\n",
    "\n",
    "                n = re.sub(\"\\d+x|\\d+y\", '', txt)\n",
    "                #print(n)\n",
    "                n = re.findall(\"[-]+\\d+|\\d+|=\", n)\n",
    "\n",
    "                #print(n)\n",
    "                igual = n.index(\"=\")\n",
    "                n_d = map(float, n[igual+1:])\n",
    "                n_i = map(float, n[:igual])\n",
    "\n",
    "                n_d = sum(n_d)\n",
    "                #print(n_d)\n",
    "                n_i = sum(n_i)\n",
    "                #print(x_i)\t\n",
    "\n",
    "                n_fin=n_d-n_i\n",
    "                #print(n_fin)\n",
    "                self.nn.append(n_fin)\n",
    "                s = f'eqt{self.count}={[x_fin,y_fin]}'\n",
    "                exec(s)\n",
    "                self.eqs.append(1)\n",
    "                s = f'self.eqs{[self.count]}=eqt{self.count}'\n",
    "                exec(s)\n",
    "                #print(self.eqs)\n",
    "\n",
    "\n",
    "                self.count+=1\n",
    "                \n",
    "    def punto(self):\n",
    "        #print(len(self.eqs))\n",
    "        if len(self.eqs)==2:\n",
    "            a = np.append([self.eqs[0]], [self.eqs[1]],axis=0)\n",
    "        elif len(self.eqs)==3:\n",
    "            a = np.append([self.eqs[0]], [self.eqs[1]],[self.eqs[2]],axis=0)\n",
    "        elif len(self.eqs)==4:\n",
    "            a = np.append([self.eqs[0]], [self.eqs[1]],[self.eqs[2]],[self.eqs[3]],axis=1)\n",
    "        elif len(self.eqs)==1:\n",
    "            #print(\"Has de introducir 2 Ecuaciones\")\n",
    "\n",
    "        #try:\n",
    "        b = np.append([self.nn],[])\n",
    "\n",
    "        am =np.linalg.solve(a,b)\n",
    "        self.y=am[1]\n",
    "        self.x=am[0]\n",
    "        self.eqs.clear()\n",
    "        self.nn.clear()\n",
    "        #print(f\"x => {self.x}\\ny => {self.y}\")\n",
    "        \n",
    "        #except:\n",
    "         #   print('Vuelvelo a Intentar')"
   ]
  },
  {
   "cell_type": "markdown",
   "metadata": {},
   "source": [
    "***"
   ]
  },
  {
   "cell_type": "markdown",
   "metadata": {},
   "source": [
    "#### PROBLEMA 1 <a name=\"1\"></a>\n",
    "\n",
    ">Una pastelería elabora dos tipos de trufas, dulces y amargas. Cada trufa dulce lleva 20 g de cacao, 20 g de nata y 30g de azúcar y se vende a 1 euro la unidad. Cada trufa amarga lleva 100 g de cacao, 20 g de nata y 15 g de azúcar    se vende a 1.3 euros la unidad.\n",
    "        \n",
    ">En un día, la pastelería sólo dispone de 30 kg de cacao, 8 kg de nata y 10.5 kg de azúcar. Sabiendo que vende todo lo que elabora, calcule cuántas trufas de cada tipo deben elaborarse ese día, para maximizar los ingresos, y determine dichos ingresos.\n",
    "\n",
    " "
   ]
  },
  {
   "cell_type": "code",
   "execution_count": 3,
   "metadata": {},
   "outputs": [
    {
     "name": "stderr",
     "output_type": "stream",
     "text": [
      "C:\\Anaconda3\\lib\\site-packages\\pulp\\pulp.py:1137: UserWarning: Spaces are not permitted in the name. Converted to '_'\n",
      "  warnings.warn(\"Spaces are not permitted in the name. Converted to '_'\")\n"
     ]
    },
    {
     "name": "stdout",
     "output_type": "stream",
     "text": [
      "Optimal Result:\n",
      "TrfaA = 125.0\n",
      "TrufaD = 275.0\n",
      "Total de ingresos:\n",
      "482.5 €\n"
     ]
    }
   ],
   "source": [
    "\n",
    "TrfaA = pulp.LpVariable(\"TrfaA\", lowBound=0, cat='Integer') \n",
    "TrufaD = pulp.LpVariable(\"TrufaD\", lowBound=0, cat='Integer') \n",
    "problem = pulp.LpProblem(\"Problema 1 - Trufas\", pulp.LpMaximize) \n",
    "\n",
    "problem += TrfaA + 1.3*TrufaD, \"Funcion Objetivo\" \n",
    "problem += TrfaA + 5*TrufaD <= 1500, \"1st constraint\"\n",
    "problem += TrfaA + TrufaD <= 400, \"2nd constraint\"\n",
    "problem += 2*TrfaA + TrufaD <= 700, \"3nd constraint\"\n",
    "\n",
    "\n",
    "problem.solve()\n",
    "lista=[]\n",
    "print (\"Optimal Result:\")\n",
    "for variable in problem.variables():\n",
    "    print (variable.name, \"=\", variable.varValue)\n",
    "    lista.append(variable.varValue)\n",
    "print (\"Total de ingresos:\")\n",
    "print (f'{value(problem.objective)} €')\n"
   ]
  },
  {
   "cell_type": "markdown",
   "metadata": {},
   "source": [
    "#### REPRESENTACION "
   ]
  },
  {
   "cell_type": "code",
   "execution_count": 6,
   "metadata": {},
   "outputs": [
    {
     "data": {
      "image/png": "[encoded data removed]",
      "text/plain": [
       "<Figure size 432x288 with 1 Axes>"
      ]
     },
     "metadata": {
      "needs_background": "light"
     },
     "output_type": "display_data"
    }
   ],
   "source": [
    "\n",
    "#IMPORTANTISIMO EL np.linspace TIENE \n",
    "#LOS DOS PRIMEROS PARAMETROS DE LA DISTANCIA DEL TRAZADO SON: DE LA LA X.\n",
    "#EL TERCERO A INVESTGAR --- DEFAULT 2000 \n",
    "\n",
    "\n",
    "x= np.linspace(0,500,2000)\n",
    "y1= (1500-x)/5\n",
    "y2= 400-x\n",
    "y3= 700-2*x \n",
    "\n",
    "plt.plot(x, y1)\n",
    "plt.plot(x, y2)\n",
    "plt.plot(x, y3)\n",
    "\n",
    "plt.plot(lista[0],lista[1],\"ro\")\n",
    "\n",
    "plt.fill_between(x,y1, color='blue', alpha=0.2)\n",
    "plt.fill_between(x,y2, color='orange', alpha=0.2)\n",
    "plt.fill_between(x,y3, color='green', alpha=0.2)\n",
    "\n",
    "plt.xlim((0, 500))\n",
    "plt.ylim((0, 408))\n",
    "\n",
    "\n",
    "\n",
    "# Fill feasible region\n",
    "\n",
    "#IMPORTANTISIMO EL np.linspace TIENE QUE TENER EL TAMAÑO IGUAL AL DE LA X ANTERIOR\n",
    "\n",
    "d = np.linspace(0,500,2000)\n",
    "\n",
    "x,y = np.meshgrid(d,d)\n",
    "region = plt.imshow( ((x + 5*y <= 1500) & (x + y <= 400)& (2*x + y <= 700)).astype(float) , \n",
    "               extent=(x.min(),x.max(),y.min(),y.max()),origin=\"lower\", cmap=\"BuPu\", alpha = 0.3);\n",
    "plt.show()"
   ]
  },
  {
   "cell_type": "markdown",
   "metadata": {},
   "source": [
    "### PROBLEMA  2 <a name=\"2\"></a>\n",
    "\n",
    ">En la joyería \"Mibrillante\" fabrican pendientes y sortijas.\n",
    "\n",
    ">Para hacer unos pendientes  se usan 2 gramos de oro y 1 gramo de plata , mientras que para hacer las sortijas necesitan 2 gramos de oro y 3 gramos de plata.\n",
    "\n",
    ">Los pendientes los venden a 50€ y las sortijas a 60€.\n",
    "\n",
    ">Disponen de 400 gramos de oro y 400 gramos de plata.\n",
    "\n",
    ">Ayuda a los joyeros a decidir cuántas joyas tienen que fabricar de cada tipo para obtener el máximo beneficio.\n",
    "\n",
    " "
   ]
  },
  {
   "cell_type": "code",
   "execution_count": 7,
   "metadata": {},
   "outputs": [
    {
     "name": "stdout",
     "output_type": "stream",
     "text": [
      "Optimal Result:\n",
      "Pendientes = 100.0\n",
      "Sortijas = 100.0\n",
      "Total net max profit:\n",
      "11000.0\n"
     ]
    }
   ],
   "source": [
    "from pulp import * \n",
    "Pendientes = pulp.LpVariable('Pendientes', lowBound=0, cat='Integer')\n",
    "Sortijas = pulp.LpVariable('Sortijas', lowBound=0, cat='Integer')\n",
    "\n",
    "problem = pulp.LpProblem(\"Problema 2 - Joyas\", pulp.LpMaximize) \n",
    "\n",
    "problem += 50*Pendientes + 60*Sortijas, \"Funcion Objetivo\" \n",
    "problem += Pendientes + 3*Sortijas <= 400, \"1st constraint\"\n",
    "problem += Pendientes + Sortijas <= 200, \"2nd constraint\"\n",
    "\n",
    "\n",
    "problem.solve()\n",
    "lista=[]\n",
    "print (\"Optimal Result:\")\n",
    "for variable in problem.variables():\n",
    "    print (variable.name, \"=\", variable.varValue)\n",
    "    lista.append(variable.varValue)\n",
    "\n",
    "ingreso = value(problem.objective)\n",
    "print (\"Total net max profit:\")\n",
    "print (ingreso)\n"
   ]
  },
  {
   "cell_type": "code",
   "execution_count": 8,
   "metadata": {},
   "outputs": [
    {
     "data": {
      "image/png": "[encoded data removed]",
      "text/plain": [
       "<Figure size 432x288 with 1 Axes>"
      ]
     },
     "metadata": {
      "needs_background": "light"
     },
     "output_type": "display_data"
    }
   ],
   "source": [
    "x= np.linspace(0,500,2000)\n",
    "y1= (400-x)/3\n",
    "y2= 200-x\n",
    "y3= (ingreso - 50*x)/60\n",
    "\n",
    "plt.plot(x, y1)\n",
    "plt.plot(x, y2)\n",
    "\n",
    "# funcion objetivo para marcar la linea\n",
    "plt.plot(x, y3,'r--')\n",
    "\n",
    "\n",
    "plt.plot(lista[0],lista[1],\"ro\")\n",
    "\n",
    "plt.fill_between(x,y1, color='blue', alpha=0.2)\n",
    "plt.fill_between(x,y2, color='orange', alpha=0.2)\n",
    "\n",
    "plt.xlim((0, 500))\n",
    "plt.ylim((0, 308))\n",
    "\n",
    "\n",
    "\n",
    "# Fill feasible region\n",
    "\n",
    "#IMPORTANTISIMO EL np.linspace TIENE QUE TENER EL TAMAÑO IGUAL AL DE LA X ANTERIOR\n",
    "\n",
    "d = np.linspace(0,500,2000)\n",
    "\n",
    "x,y = np.meshgrid(d,d)\n",
    "region = plt.imshow( ((x + 3*y <= 400) & (x + y <= 200)).astype(float) , \n",
    "               extent=(x.min(),x.max(),y.min(),y.max()),origin=\"lower\", cmap=\"BuPu\", alpha = 0.3);\n",
    "plt.show()"
   ]
  },
  {
   "cell_type": "markdown",
   "metadata": {},
   "source": [
    "#### PROBLEMA 3 <a name=\"3\"></a>\n",
    "\n",
    ">La empresa de catering \"Kerrico S. A.\" está diseñando un menú para un comedor escolar. El colegio les informa de que la dieta debe cumplir los siguientes requisitos:\n",
    "\n",
    "\n",
    "+ El número de calorías no ha de ser inferior a 2000.\n",
    "\n",
    "\n",
    "+ Debe contener un total de, al menos, 60 gr. de proteínas.\n",
    "\n",
    "\n",
    "+ Debe contener un total de,  al menos, 80 gr. de grasas. \n",
    "\n",
    "\n",
    ">Para ello dispone de dos tipos de platos con las siguientes características:\n",
    "    \n",
    "| Tables                  \t| Calorías \t| Proteínas \t| Grasas \t|\n",
    "|-------------------------\t|:--------:\t|----------:\t|--------\t|\n",
    "| Primer Plato (100 gr.)  \t| 250      \t| 10        \t| 15     \t|\n",
    "| Segundo Plato (100 gr.) \t| 800      \t| 15        \t| 20     \t|\n",
    "\n",
    ">El precio de 100 gramos del primer plato es de 1 € y del segundo plato de 2 €.\n",
    "\n",
    ">Ayuda a esta empresa a calcular cuántos gramos se deben servir de cada plato para que el coste sea mínimo y cuál es ese coste."
   ]
  },
  {
   "cell_type": "code",
   "execution_count": 9,
   "metadata": {},
   "outputs": [
    {
     "name": "stdout",
     "output_type": "stream",
     "text": [
      "Optimal Result:\n",
      "Plato1 = 4.2352941\n",
      "Plato2 = 1.1764706\n",
      "Coste Minimo:\n",
      "6.5882353\n"
     ]
    }
   ],
   "source": [
    "from pulp import * \n",
    "Plato1 = pulp.LpVariable('Plato1', lowBound=0)\n",
    "Plato2 = pulp.LpVariable('Plato2', lowBound=0)\n",
    "\n",
    "problem = pulp.LpProblem(\"Problema 3 - Dieta\", pulp.LpMinimize) \n",
    "\n",
    "problem += Plato1+2*Plato2, \"Funcion Objetivo\" \n",
    "problem += 5*Plato1+16*Plato2>=40, \"1st constraint\"\n",
    "problem += 2*Plato1+3*Plato2>=12, \"2nd constraint\"\n",
    "problem += 3*Plato1+4*Plato2>=16, \"3nd constraint\"\n",
    "\n",
    "\n",
    "problem.solve()\n",
    "lista=[]\n",
    "print (\"Optimal Result:\")\n",
    "for variable in problem.variables():\n",
    "    print (variable.name, \"=\", variable.varValue)\n",
    "    lista.append(variable.varValue)\n",
    "\n",
    "ingreso = value(problem.objective)\n",
    "print (\"Coste Minimo:\")\n",
    "print (ingreso)\n"
   ]
  },
  {
   "cell_type": "code",
   "execution_count": 10,
   "metadata": {},
   "outputs": [
    {
     "data": {
      "image/png": "[encoded data removed]",
      "text/plain": [
       "<Figure size 432x288 with 1 Axes>"
      ]
     },
     "metadata": {
      "needs_background": "light"
     },
     "output_type": "display_data"
    }
   ],
   "source": [
    "x = np.linspace(0,8,2000)\n",
    "y1= (40-5*x)/16\n",
    "y2= (12-2*x)/3\n",
    "y3= (16 - 3*x)/4\n",
    "y4= (ingreso - x)/2\n",
    "\n",
    "\n",
    "plt.plot(x, y1)\n",
    "plt.plot(x, y2)\n",
    "plt.plot(x, y3)\n",
    "\n",
    "# funcion objetivo para marcar la linea\n",
    "plt.plot(x, y4,'r--')\n",
    "\n",
    "\n",
    "plt.plot(lista[0],lista[1],\"ro\")\n",
    "\n",
    "#plt.fill_between(x,y1, color='blue', alpha=0.2)\n",
    "#plt.fill_between(x,y2, color='orange', alpha=0.2)\n",
    "#plt.fill_between(x,y3, color='green', alpha=0.2)\n",
    "\n",
    "plt.xlim((0, 8))\n",
    "plt.ylim((0, 5))\n",
    "\n",
    "\n",
    "\n",
    "\n",
    "\n",
    "# Fill feasible region\n",
    "\n",
    "#IMPORTANTISIMO EL np.linspace TIENE QUE TENER EL TAMAÑO IGUAL AL DE LA X ANTERIOR\n",
    "d = np.linspace(0,8,2000)\n",
    "\n",
    "x,y = np.meshgrid(d,d)\n",
    "region = plt.imshow( ((5*x+16*y>=40) & (2*x+3*y>=12) & (3*x+4*y>=+16)).astype(float) , \n",
    "               extent=(x.min(),x.max(),y.min(),y.max()),origin=\"lower\", cmap=\"BuPu\", alpha = 0.3);\n",
    "plt.show()\n"
   ]
  },
  {
   "cell_type": "markdown",
   "metadata": {},
   "source": [
    "### PROBLEMA 4 <a name=\"4\"></a>\n",
    "\n",
    ">A la empresa TRANS VELOX de transporte ha llegado la oferta del transporte de pescado a las ciudades de Córdoba, Granada y Sevilla. El origen de la mercancía procede de las ciudades de Málaga y Cádiz.\n",
    "\n",
    ">En la siguiente tabla puedes ver los costes, en euros, de transportar una caja de pescado desde las ciudades costeras a las ciudades interiores:\n",
    "\n",
    "| Tables \t| Córdoba \t| Granada \t| Sevilla \t|\n",
    "|:------:\t|:-------:\t|:-------:\t|:-------:\t|\n",
    "|  Cádiz \t|    2    \t|    3    \t|    1    \t|\n",
    "| Málaga \t|    1    \t|    1    \t|    2    \t|\n",
    "\n",
    ">La oferta desde la ciudad de Málaga es de 250 cajas, y desde Cádiz es de 150. La demanda desde Sevilla es de 200 cajas, 150 por parte de Córdoba y 50 por parte de Granada.\n",
    "\n",
    ">¿Cuál es la mejor opción para distribuir el pescado de forma que los costes de transporte sean los más bajos posibles y de forma que todas las ciudades de destino sean totalmente abastecidas con las cantidades demandadas?"
   ]
  },
  {
   "cell_type": "markdown",
   "metadata": {},
   "source": [
    "> Tenemos pues que elaborar esta tabla dado los datos que nos aporta el problema; para asi poder afrontarlo con mayor facilidad\n",
    "\n",
    ">| Tables \t| Córdoba \t| Granada \t| Sevilla \t| Oferta \t|\n",
    ">|:------:\t|:-------:\t|:-------:\t|:-------:\t|:-------:\t|\n",
    ">|  Cádiz \t|    X    \t|    Y    \t|  150-(X+Y) |   150     |\n",
    ">| Málaga \t|    150-X  |    50-Y  \t| 250-(150-(X+Y))|   250    \t|\n",
    ">| Demanda \t|    150   \t|    50    \t|    200    |  TOTAL: 400 \t|"
   ]
  },
  {
   "cell_type": "markdown",
   "metadata": {},
   "source": [
    "> La función objetivo será el total del número de cajas enviada entre dos ciudades multiplicado por lo que cuesta cada envío:\n",
    "\n",
    "> **2**x+**1**(150-x)+**3**y+**1**(50-y)+**1**(150-x-y)+**2**(x+y+50)=**2x+3y+450**\n",
    "\n",
    "> **Min F(x,y)**=2x+3y+450"
   ]
  },
  {
   "cell_type": "code",
   "execution_count": 11,
   "metadata": {},
   "outputs": [
    {
     "name": "stdout",
     "output_type": "stream",
     "text": [
      "Optimal Result:\n",
      "x = 0.0\n",
      "y = 0.0\n",
      "Coste Minimo:\n",
      "450.0\n"
     ]
    }
   ],
   "source": [
    "from pulp import * \n",
    "x = pulp.LpVariable('x', lowBound=0)\n",
    "y = pulp.LpVariable('y', lowBound=0)\n",
    "\n",
    "problem = pulp.LpProblem(\"Problema 4 - Envios\", pulp.LpMinimize) \n",
    "\n",
    "problem += 2*x+3*y+450, \"Funcion Objetivo\"\n",
    "\n",
    "problem += 0<=x, \"1st constraint\"\n",
    "problem += x<=150, \"1 constraint\"\n",
    "problem += 0<=y, \"2 constraint\"\n",
    "problem += y<=50, \"2nd constraint\"\n",
    "problem += x+y<=150, \"3 constraint\" #oferta Cadiz\n",
    "problem += x+y>= -50, \"4 constraint\" #demanda Sevilla\n",
    "\n",
    "\n",
    "problem.solve()\n",
    "lista=[]\n",
    "print (\"Optimal Result:\")\n",
    "for variable in problem.variables():\n",
    "    print (variable.name, \"=\", variable.varValue)\n",
    "    lista.append(variable.varValue)\n",
    "\n",
    "ingreso = value(problem.objective)\n",
    "print (\"Coste Minimo:\")\n",
    "print (ingreso)"
   ]
  },
  {
   "cell_type": "code",
   "execution_count": 54,
   "metadata": {},
   "outputs": [
    {
     "data": {
      "text/html": [
       "<div>\n",
       "<style scoped>\n",
       "    .dataframe tbody tr th:only-of-type {\n",
       "        vertical-align: middle;\n",
       "    }\n",
       "\n",
       "    .dataframe tbody tr th {\n",
       "        vertical-align: top;\n",
       "    }\n",
       "\n",
       "    .dataframe thead th {\n",
       "        text-align: right;\n",
       "    }\n",
       "</style>\n",
       "<table border=\"1\" class=\"dataframe\">\n",
       "  <thead>\n",
       "    <tr style=\"text-align: right;\">\n",
       "      <th></th>\n",
       "      <th></th>\n",
       "      <th>Cordoba</th>\n",
       "      <th>Granada</th>\n",
       "      <th>Sevilla</th>\n",
       "      <th>Oferta</th>\n",
       "    </tr>\n",
       "  </thead>\n",
       "  <tbody>\n",
       "    <tr>\n",
       "      <th>0</th>\n",
       "      <td>Cadiz</td>\n",
       "      <td>0</td>\n",
       "      <td>0</td>\n",
       "      <td>150</td>\n",
       "      <td>150</td>\n",
       "    </tr>\n",
       "    <tr>\n",
       "      <th>1</th>\n",
       "      <td>Malaga</td>\n",
       "      <td>150</td>\n",
       "      <td>50</td>\n",
       "      <td>50</td>\n",
       "      <td>250</td>\n",
       "    </tr>\n",
       "    <tr>\n",
       "      <th>2</th>\n",
       "      <td>Demanda</td>\n",
       "      <td>150</td>\n",
       "      <td>50</td>\n",
       "      <td>200</td>\n",
       "      <td>TOTAL:400</td>\n",
       "    </tr>\n",
       "  </tbody>\n",
       "</table>\n",
       "</div>"
      ],
      "text/plain": [
       "            Cordoba  Granada  Sevilla     Oferta\n",
       "0    Cadiz        0        0      150        150\n",
       "1   Malaga      150       50       50        250\n",
       "2  Demanda      150       50      200  TOTAL:400"
      ]
     },
     "metadata": {},
     "output_type": "display_data"
    },
    {
     "data": {
      "image/png": "[encoded data removed]",
      "text/plain": [
       "<Figure size 432x288 with 1 Axes>"
      ]
     },
     "metadata": {
      "needs_background": "light"
     },
     "output_type": "display_data"
    }
   ],
   "source": [
    "import pandas as pd\n",
    "x=lista[0]\n",
    "y=lista[1]\n",
    "\n",
    "df = pd.DataFrame({\n",
    "    ' ':['Cadiz','Malaga','Demanda'],\n",
    "    'Cordoba':[int(x),int(150-x),int(150)],\n",
    "    'Granada':[int(y),int((50-y)),int(50)],\n",
    "    'Sevilla':[int(150-(x+y)),int(200-(150-(x+y))),int(200)],\n",
    "    'Oferta':[int(150),int(250),f'TOTAL:{int(400)}']\n",
    "})\n",
    "\n",
    "display(df)\n",
    "\n",
    "x = np.linspace(-80,300,2000)\n",
    "y1= 150-x\n",
    "y2= -50-x\n",
    "y4= (ingreso - 2*x -450)/3\n",
    "\n",
    "y5=50+0*x\n",
    "y6= 0 + 0*x\n",
    "\n",
    "plt.plot(x, y1)\n",
    "plt.plot(x, y2)\n",
    "\n",
    "# funcion objetivo para marcar la linea\n",
    "\n",
    "plt.axvline(150) \n",
    "plt.axvline(0) \n",
    "plt.plot(x, y4, 'r')\n",
    "plt.plot(x, y5, 'g--')\n",
    "plt.plot(x, y6, 'g--')\n",
    "\n",
    "\n",
    "\n",
    "plt.plot(lista[0],lista[1],\"ro\")\n",
    "\n",
    "#plt.fill_between(x,y1, color='blue', alpha=0.2)\n",
    "#plt.fill_between(x,y2, color='red', alpha=0.2)\n",
    "\n",
    "\n",
    "plt.xlim((-80, 300))\n",
    "plt.ylim((-80, 250))\n",
    "\n",
    "\n",
    "\n",
    "\n",
    "\n",
    "# Fill feasible region\n",
    "\n",
    "\n",
    "#a = plt.fill_between(x,y6,y1,where=(x>=0)&(x<=150)&(y5>=y1), color='purple', alpha=0.5)\n",
    "#b = plt.fill_between(x,y6,y5,where=(x>=0)&(x<=100), color='purple', alpha=0.5)\n",
    "\n",
    "\n",
    "#IMPORTANTISIMO EL np.linspace TIENE QUE TENER EL TAMAÑO IGUAL AL DE LA X ANTERIOR\n",
    "d = np.linspace(-80,300,2000)\n",
    "\n",
    "x,y = np.meshgrid(d,d)\n",
    "region = plt.imshow( ((0<=x) & (x<=150) & (0<=y) & (y<=50) & (x+y<=150) & (x+y>=-50)).astype(float) , \n",
    "               extent=(x.min(),x.max(),y.min(),y.max()),origin=\"lower\", cmap=\"BuPu\", alpha = 0.3);\n",
    "plt.show()\n"
   ]
  },
  {
   "cell_type": "code",
   "execution_count": 62,
   "metadata": {},
   "outputs": [
    {
     "data": {
      "image/png": "[encoded data removed]",
      "text/plain": [
       "<Figure size 432x288 with 1 Axes>"
      ]
     },
     "metadata": {
      "needs_background": "light"
     },
     "output_type": "display_data"
    },
    {
     "data": {
      "image/png": "[encoded data removed]",
      "text/plain": [
       "<Figure size 432x288 with 1 Axes>"
      ]
     },
     "metadata": {
      "needs_background": "light"
     },
     "output_type": "display_data"
    },
    {
     "data": {
      "image/png": "[encoded data removed]",
      "text/plain": [
       "<Figure size 432x288 with 1 Axes>"
      ]
     },
     "metadata": {
      "needs_background": "light"
     },
     "output_type": "display_data"
    }
   ],
   "source": [
    "df.plot(kind='bar',x=' ',y='Cordoba',color='red')\n",
    "df.plot(kind='bar',x=' ',y='Sevilla',color='Green')\n",
    "df.plot(kind='bar',x=' ',y='Granada',color='blue')\n",
    "\n",
    "plt.show()"
   ]
  }
 ],
 "metadata": {
  "kernelspec": {
   "display_name": "Python 3",
   "language": "python",
   "name": "python3"
  },
  "language_info": {
   "codemirror_mode": {
    "name": "ipython",
    "version": 3
   },
   "file_extension": ".py",
   "mimetype": "text/x-python",
   "name": "python",
   "nbconvert_exporter": "python",
   "pygments_lexer": "ipython3",
   "version": "3.7.6"
  }
 },
 "nbformat": 4,
 "nbformat_minor": 4
}
