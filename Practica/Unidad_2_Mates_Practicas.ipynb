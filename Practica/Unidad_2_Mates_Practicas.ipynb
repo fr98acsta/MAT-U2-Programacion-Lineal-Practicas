{
 "cells": [
  {
   "cell_type": "markdown",
   "metadata": {},
   "source": [
    "#  UNIDAD 2 MATEMATICAS II\n",
    "\n",
    "Practicas de la Undad 2 de Matematicas de Ciencias Sociales de 2ºBach\n",
    "\n",
    "---"
   ]
  },
  {
   "cell_type": "markdown",
   "metadata": {},
   "source": [
    "## Tabla de Contenidos\n",
    "  \n",
    "  1. [MA2 - Práctica 2.1: Programación lineal ](#2.1) \n",
    "  \n",
    "   + [Ejercicio 1](#2.1.1)    \n",
    "   \n",
    "   + [Ejercicio 2](#2.1.2)   \n",
    "   \n",
    "   + [Ejercicio 3](#2.1.3)\n",
    "   \n",
    "   + [Ejercicio 4](#s2.1.4)\n",
    "   \n",
    "   \n",
    "  2. [MA2 - Tarea 2.2: ¿Dulcero o goloso?](#2.2)\n",
    "\n",
    "\n",
    "  3. [MA2 - Tarea 2.3: Con la ayuda de la tecnología, mejor](#2.3)\n",
    "  \n",
    "  \n",
    "   + [Utilizando Matplotlib](#2.3.5)    \n",
    "   \n",
    "   + [Utilizando Sympy](#2.3.4)   \n",
    "   \n",
    "   + [Utilizando Numpy](#2.3.3)\n",
    "   \n",
    "   + [Utilizando Mathway](#2.3.1)\n",
    "   \n",
    "   + [Utilizando Matrix Calculator](#2.3.2)\n",
    "  \n",
    "### Adicional:\n",
    "\n",
    "<a href=\"http://www.juntadeandalucia.es/educacion/permanente/materiales/index.php?etapa=4&materia=278&unidad=2#space\" class=\"badge badge-primary\">Recursos</a>\n",
    "<a href=\"http://agrega.juntadeandalucia.es/visualizador-1/Visualizar/Visualizar.do?identificador=es-an_2019061212_9125600&secuencia=true\" class=\"badge badge-success\">Practica 2.1</a>\n",
    "<a href=\"http://agrega.juntadeandalucia.es/visualizador-1/Visualizar/Visualizar.do?identificador=es-an_2019061212_9130200&secuencia=true\" class=\"badge badge-danger\">Practica 2.2</a>\n",
    "<a href=\"http://agrega.juntadeandalucia.es/visualizador-1/Visualizar/Visualizar.do?identificador=es-an_2019061212_9130215&secuencia=true\" class=\"badge badge-warning\">Practica 2.3</a>\n",
    "<a href=\"https://nbviewer.jupyter.org/github/fr98acsta/MAT-U2-Programacion-Lineal-Practicas/blob/master/Programacion_Lineal.ipynb\" class=\"badge badge-info\">Ejercicios Unidad 1</a>\n",
    "\n"
   ]
  },
  {
   "cell_type": "markdown",
   "metadata": {},
   "source": [
    "---"
   ]
  },
  {
   "cell_type": "code",
   "execution_count": 1,
   "metadata": {},
   "outputs": [],
   "source": [
    "from sympy.solvers import solve\n",
    "from sympy import Symbol\n",
    "from sympy import Eq,solve_linear_system,Matrix\n",
    "from sympy import S, Interval \n",
    "from sympy.plotting import plot\n",
    "\n",
    "import re\n",
    "import numpy as np\n",
    "import sympy as sp\n",
    "import matplotlib.pyplot as plt\n",
    "sp.init_printing()\n",
    "from IPython.core.display import HTML\n"
   ]
  },
  {
   "cell_type": "code",
   "execution_count": 2,
   "metadata": {},
   "outputs": [],
   "source": [
    "class Interseccion() :\n",
    "    eqs = []\n",
    "    nn = []\n",
    "    flag = True\n",
    "    count=0\n",
    "    x=0\n",
    "    y=0\n",
    "    \n",
    "    def __init__(self):\n",
    "        print('Presiona \"q\" para terminar de introducir los segmentos a tomar')\n",
    "        while self.flag:\n",
    "            \n",
    "            txt = input(\"Introduce la ecuacion: \")\n",
    "            if txt == 'q':\n",
    "                self.flag = False\n",
    "            else:\n",
    "\n",
    "                #Check if the string contains any digits (numbers from 0-9):\n",
    "                x_t = re.sub(\"(\\Ax?)x\", lambda y: \"+1x\" if y.group() == \"x\" else \"-1x\", txt)\n",
    "                x_t = re.sub(\"=(x?)x\", lambda y: \"=+1x\" if y.group() == \"=x\" else \"=-1x\", x_t)\n",
    "                x_t = re.sub(\"([-]+[x]?|[+]+[x]?)x\", lambda y: \"-1y\" if y.group() == \"-x\" else \"+1x\", x_t)\n",
    "                x = re.findall(\"(\\d+[x]?|[-]+\\d+[x]?|[+]+\\d+[x]?)x|=\", x_t)\n",
    "                #print(x)\n",
    "\n",
    "                igual = x.index(\"\")\n",
    "                x[igual]='='\n",
    "                #print(x)\n",
    "\n",
    "                # x[:igual]\n",
    "                # x[igual+1:]\n",
    "                x_d = map(float, x[:igual])\n",
    "                x_i = map(float, x[igual+1:])\n",
    "\n",
    "                x_d = sum(x_d)\n",
    "                #print(x_d)\n",
    "                x_i = sum(x_i)\n",
    "                #print(x_i)\t\n",
    "\n",
    "                x_fin=x_d-x_i\n",
    "                #print(x_fin)\n",
    "\n",
    "                ###################\n",
    "\n",
    "\n",
    "                y_t = re.sub(\"(\\Ay?)y\", lambda y: \"+1y\" if y.group() == \"y\" else \"-1y\", txt)\n",
    "                y_t = re.sub(\"=(y?)y\", lambda y: \"=+1y\" if y.group() == \"=y\" else \"=-1y\", y_t)\n",
    "                y_t = re.sub(\"([-]+[y]?|[+]+[y]?)y\", lambda y: \"-1y\" if y.group() == \"-y\" else \"+1y\", y_t)\n",
    "                y = re.findall(\"(\\d+[y]?|[-]+\\d+[y]?|[+]+\\d+[y]?)y|=\", y_t)\n",
    "                #print(y)\n",
    "\n",
    "                igual = y.index(\"\")\n",
    "                y[igual]='='\n",
    "                #print(y)\n",
    "\n",
    "                # y[:igual]\n",
    "                # y[igual+1:]\n",
    "                y_d = map(float, y[:igual])\n",
    "                y_i = map(float, y[igual+1:])\n",
    "\n",
    "                y_d = sum(y_d)\n",
    "                #print(y_d)\n",
    "                y_i = sum(y_i)\n",
    "                #print(y_i)\t\n",
    "\n",
    "                y_fin=y_d-y_i\n",
    "                #print(y_fin)\n",
    "\n",
    "                #################\n",
    "\n",
    "                n = re.sub(\"\\d+x|\\d+y\", '', txt)\n",
    "                #print(n)\n",
    "                n = re.findall(\"[-]+\\d+|\\d+|=\", n)\n",
    "\n",
    "                #print(n)\n",
    "                igual = n.index(\"=\")\n",
    "                n_d = map(float, n[igual+1:])\n",
    "                n_i = map(float, n[:igual])\n",
    "\n",
    "                n_d = sum(n_d)\n",
    "                #print(n_d)\n",
    "                n_i = sum(n_i)\n",
    "                #print(x_i)\t\n",
    "\n",
    "                n_fin=n_d-n_i\n",
    "                #print(n_fin)\n",
    "                self.nn.append(n_fin)\n",
    "                s = f'eqt{self.count}={[x_fin,y_fin]}'\n",
    "                exec(s)\n",
    "                self.eqs.append(1)\n",
    "                s = f'self.eqs{[self.count]}=eqt{self.count}'\n",
    "                exec(s)\n",
    "                #print(self.eqs)\n",
    "\n",
    "\n",
    "                self.count+=1\n",
    "                \n",
    "    def punto(self):\n",
    "        #print(len(self.eqs))\n",
    "        if len(self.eqs)==2:\n",
    "            a = np.append([self.eqs[0]], [self.eqs[1]],axis=0)\n",
    "        elif len(self.eqs)==3:\n",
    "            a = np.append([self.eqs[0]], [self.eqs[1]],[self.eqs[2]],axis=1)\n",
    "        elif len(self.eqs)==4:\n",
    "            a = np.append([self.eqs[0]], [self.eqs[1]],[self.eqs[2]],[self.eqs[3]],axis=1)\n",
    "        elif len(self.eqs)==1:\n",
    "            print(\"Has de introducir 2 Ecuaciones\")\n",
    "            \n",
    "        b = np.append([self.nn],[])\n",
    "\n",
    "        am =np.linalg.solve(a,b)\n",
    "        self.y=am[1]\n",
    "        self.x=am[0]\n",
    "        self.eqs.clear()\n",
    "        self.nn.clear()\n",
    "        #print(f\"x => {self.x}\\ny => {self.y}\")\n",
    "        \n",
    "        #except:\n",
    "         #   print('Vuelvelo a Intentar')\n",
    "            \n",
    "## MEJORRARLA REDUCIENDOLA Y SOBRETODO CREAR UNA CON PULP LIBRARY \n",
    "##ASI PODER CREAR UN RESOLVEDOR DE PROGRAMACION LINEA FACIL Y RAPIDO CON IMPRESION\n"
   ]
  },
  {
   "cell_type": "code",
   "execution_count": 3,
   "metadata": {},
   "outputs": [],
   "source": [
    "from pulp import * \n",
    "\n",
    "class Min():\n",
    "    \n",
    "    def __init__(self):\n",
    "        \n",
    "        x = pulp.LpVariable(\"x\", lowBound=0, cat='Integer') \n",
    "        y = pulp.LpVariable(\"y\", lowBound=0, cat='Integer')\n",
    "\n",
    "        problem = pulp.LpProblem(\"Ejercico - 3\", pulp.LpMinimize) \n",
    "\n",
    "        problem += 2*x+3*y, \"Funcion Objetivo\" \n",
    "        problem += x+y >= 3, \"1st constraint\"\n",
    "        problem += x+2*y <= 6, \"2nd constraint\"\n",
    "\n",
    "\n",
    "        problem.solve()\n",
    "        listam=[]\n",
    "        print (\"Optimal Result:\")\n",
    "        for variable in problem.variables():\n",
    "            print (variable.name, \"=\", variable.varValue)\n",
    "            listam.append(variable.varValue)\n",
    "        print (\"Minimizacion\")\n",
    "        ingreso = value(problem.objective)\n",
    "        print (f'{ingreso}\\n\\n')\n",
    "        \n",
    "        \n",
    "        xy1 = Interseccion()\n",
    "        xy1.punto()\n",
    "\n",
    "        xy2 = Interseccion()\n",
    "        xy2.punto()\n",
    "\n",
    "        xy3 = Interseccion()\n",
    "        xy3.punto()\n",
    "\n",
    "        xy4 = Interseccion()\n",
    "        xy4.punto()\n",
    "\n",
    "        x = np.linspace(-10,15,2000)\n",
    "        y1= 3-x\n",
    "        y2= (6-x)/2\n",
    "        y3= 0*x\n",
    "        y4= (ingreso - 2*x)/3\n",
    "        \n",
    "        plt.plot(x, y1,color='green', label=r'$y+x\\leq 3 $')\n",
    "        plt.plot(x, y2,'r', label=r'$x+2y\\leq6$')\n",
    "        plt.plot(x, y3, label=r'$0\\leq y$')\n",
    "        plt.plot(x, y4,'k--')\n",
    "        #plt.axvline(10, color='blue', label=r'$x\\leq 10 $') \n",
    "\n",
    "        plt.axvline(0,color='grey', label=r'$0\\leq x $') \n",
    "        plt.plot(int(xy1.x),int(xy1.y),\"ro\", label=f'$({int(xy1.x)},{int(xy1.y)})$')\n",
    "        plt.plot(int(xy2.x),int(xy2.y),\"ro\", label=f'$({int(xy2.x)},{int(xy2.y)})$')\n",
    "        plt.plot(int(xy3.x),int(xy3.y),\"ro\", label=f'$({int(xy3.x)},{int(xy3.y)})$')\n",
    "        plt.plot(int(xy4.x),int(xy4.y),\"ro\", label=f'$({int(xy4.x)},{int(xy4.y)})$')\n",
    "        plt.plot(listam[0],listam[1],\"ko\", label=f\"Solucion:\\n x: {listam[0]}\\n y: {listam[1]}\")\n",
    "        plt.xlim((-10, 15))\n",
    "        plt.ylim((-10, 15))\n",
    "\n",
    "\n",
    "        plt.legend(loc=\"upper left\")\n",
    "        plt.legend(bbox_to_anchor=(1.05, 1), loc=2, borderaxespad=0.)\n",
    "\n",
    "        d = np.linspace(-10,15,2000)\n",
    "\n",
    "        x,y = np.meshgrid(d,d)\n",
    "        region = plt.imshow( ((0<=y) & (0<=x) & (x+y >= 3) & (x+2*y <= 6)).astype(float) , \n",
    "                       extent=(x.min(),x.max(),y.min(),y.max()),origin=\"lower\", cmap=\"BuPu\", alpha = 0.3);\n",
    "        plt.show()\n",
    "\n",
    "        \n",
    "class Max():\n",
    "    \n",
    "    def __init__(self):\n",
    "        \n",
    "        x = pulp.LpVariable(\"x\", lowBound=0, cat='Integer') \n",
    "        y = pulp.LpVariable(\"y\", lowBound=0, cat='Integer')\n",
    "\n",
    "        problem = pulp.LpProblem(\"Ejercico - 3\", pulp.LpMaximize) \n",
    "\n",
    "        problem += 2*x+3*y, \"Funcion Objetivo\" \n",
    "        problem += x+y >= 3, \"1st constraint\"\n",
    "        problem += x+2*y <= 6, \"2nd constraint\"\n",
    "\n",
    "\n",
    "        problem.solve()\n",
    "        lista=[]\n",
    "        print (\"Optimal Result:\")\n",
    "        for variable in problem.variables():\n",
    "            print (variable.name, \"=\", variable.varValue)\n",
    "            lista.append(variable.varValue)\n",
    "        print (\"Maximizacion\")\n",
    "        ingreso = value(problem.objective)\n",
    "        print (f'{ingreso}\\n\\n')\n",
    "        \n",
    "        \n",
    "        xy1 = Interseccion()\n",
    "        xy1.punto()\n",
    "\n",
    "        xy2 = Interseccion()\n",
    "        xy2.punto()\n",
    "\n",
    "        xy3 = Interseccion()\n",
    "        xy3.punto()\n",
    "\n",
    "        xy4 = Interseccion()\n",
    "        xy4.punto()\n",
    "\n",
    "        x = np.linspace(-10,15,2000)\n",
    "        y1= 3-x\n",
    "        y2= (6-x)/2\n",
    "        y3= 0*x\n",
    "        y4= (ingreso - 2*x)/3\n",
    "        \n",
    "        plt.plot(x, y1,color='green', label=r'$y+x\\leq 3 $')\n",
    "        plt.plot(x, y2,'r', label=r'$x+2y\\leq6$')\n",
    "        plt.plot(x, y3, label=r'$0\\leq y$')\n",
    "        plt.plot(x, y4,'k--')\n",
    "        #plt.axvline(10, color='blue', label=r'$x\\leq 10 $') \n",
    "\n",
    "        plt.axvline(0,color='grey', label=r'$0\\leq x $') \n",
    "        plt.plot(int(xy1.x),int(xy1.y),\"ro\", label=f'$({int(xy1.x)},{int(xy1.y)})$')\n",
    "        plt.plot(int(xy2.x),int(xy2.y),\"ro\", label=f'$({int(xy2.x)},{int(xy2.y)})$')\n",
    "        plt.plot(int(xy3.x),int(xy3.y),\"ro\", label=f'$({int(xy3.x)},{int(xy3.y)})$')\n",
    "        plt.plot(int(xy4.x),int(xy4.y),\"ro\", label=f'$({int(xy4.x)},{int(xy4.y)})$')\n",
    "        plt.plot(lista[0],lista[1],\"ko\", label=f\"Solucion:\\n x: {lista[0]}\\n y: {lista[1]}\")\n",
    "        plt.xlim((-10, 15))\n",
    "        plt.ylim((-10, 15))\n",
    "\n",
    "\n",
    "        plt.legend(loc=\"upper left\")\n",
    "        plt.legend(bbox_to_anchor=(1.05, 1), loc=2, borderaxespad=0.)\n",
    "\n",
    "        d = np.linspace(-10,15,2000)\n",
    "\n",
    "        x,y = np.meshgrid(d,d)\n",
    "        region = plt.imshow( ((0<=y) & (0<=x) & (x+y >= 3) & (x+2*y <= 6)).astype(float) , \n",
    "                       extent=(x.min(),x.max(),y.min(),y.max()),origin=\"lower\", cmap=\"BuPu\", alpha = 0.3);\n",
    "        plt.show()\n",
    "        \n",
    "        \n",
    "class Max_4():\n",
    "    \n",
    "    def __init__(self):\n",
    "        \n",
    "        Camisas = pulp.LpVariable(\"Camisas\", lowBound=0, cat='Integer')\n",
    "        Pantalones = pulp.LpVariable(\"Pantalones\", lowBound=0, cat='Integer') \n",
    "        \n",
    "\n",
    "        problem = pulp.LpProblem(\"Ejercico - 3\", pulp.LpMaximize) \n",
    "\n",
    "        problem += 40*Pantalones+25*Camisas, \"Funcion Objetivo\" \n",
    "        problem += 2000*Pantalones+1000*Camisas <= 124000, \"1st constraint\"\n",
    "        problem += 75*Pantalones+50*Camisas <= 50000, \"2nd constraint\"\n",
    "\n",
    "\n",
    "        problem.solve()\n",
    "        lista=[]\n",
    "        print (\"Optimal Result:\")\n",
    "        for variable in problem.variables():\n",
    "            print (f'{variable.name} = {variable.varValue} unds.')\n",
    "            lista.append(variable.varValue)\n",
    "        print (\"Maximizacion Beneficio:\")\n",
    "        ingreso = value(problem.objective)\n",
    "        print (f'{ingreso}€\\n\\n')\n",
    "        \n",
    "        \n",
    "        xy1 = Interseccion()\n",
    "        xy1.punto()\n",
    "\n",
    "        xy2 = Interseccion()\n",
    "        xy2.punto()\n",
    "\n",
    "        xy3 = Interseccion()\n",
    "        xy3.punto()\n",
    "\n",
    "        xy4 = Interseccion()\n",
    "        xy4.punto()\n",
    "        \n",
    "        xy5 = Interseccion()\n",
    "        xy5.punto()\n",
    "        \n",
    "        \n",
    "        x = np.linspace(-10,150,2000)\n",
    "        y1= (50-0.75*x)/0.5\n",
    "        y2= (124-2*x)\n",
    "        y3= 0*x\n",
    "        y4= (ingreso - 40*x)/25\n",
    "        \n",
    "        plt.plot(x, y2,color='green', label=r'$y+2x\\leq 124 $')\n",
    "        plt.plot(x, y1,'r', label=r'$0.75x+0.5y\\leq50$')\n",
    "        plt.plot(x, y3, label=r'$0\\leq y$')\n",
    "        plt.plot(x, y4,'k--')\n",
    "        #plt.axvline(10, color='blue', label=r'$x\\leq 10 $') \n",
    "\n",
    "        plt.axvline(0,color='grey', label=r'$0\\leq x $') \n",
    "        plt.plot(int(xy1.x),int(xy1.y),\"ro\", label=f'$({int(xy1.x)},{int(xy1.y)})$')\n",
    "        plt.plot(int(xy2.x),int(xy2.y),\"ro\", label=f'$({int(xy2.x)},{int(xy2.y)})$')\n",
    "        plt.plot(int(xy3.x),int(xy3.y),\"ro\", label=f'$({int(xy3.x)},{int(xy3.y)})$')\n",
    "        plt.plot(int(xy4.x),int(xy4.y),\"ro\", label=f'$({int(xy4.x)},{int(xy4.y)})$')\n",
    "        plt.plot(int(xy5.x),int(xy5.y),\"ro\", label=f'$({int(xy5.x)},{int(xy5.y)})$')\n",
    "        plt.plot(0,0,\"ro\", label=f'$({0},{0})$')\n",
    "        plt.plot(lista[1],lista[0],\"ko\", label=f\"Solucion:\\n x: {lista[1]}\\n y: {lista[0]}\")\n",
    "        plt.xlim((-10, 150))\n",
    "        plt.ylim((-10, 150))\n",
    "\n",
    "\n",
    "        plt.legend(loc=\"upper left\")\n",
    "        plt.legend(bbox_to_anchor=(1.05, 1), loc=2, borderaxespad=0.)\n",
    "\n",
    "        d = np.linspace(-10,150,2000)\n",
    "\n",
    "        x,y = np.meshgrid(d,d)\n",
    "        region = plt.imshow( ((0<=y) & (0<=x) & (75*x+50*y <= 50000) & (2000*x+1000*y <= 124000)).astype(float) , \n",
    "                       extent=(x.min(),x.max(),y.min(),y.max()),origin=\"lower\", cmap=\"BuPu\", alpha = 0.3);\n",
    "        plt.show()\n",
    "\n",
    "class Max_u2():\n",
    "    \n",
    "    def __init__(self):\n",
    "        \n",
    "        Caja1 = pulp.LpVariable(\"Caja1\", lowBound=0, cat='Integer')\n",
    "        Caja2 = pulp.LpVariable(\"Caja2\", lowBound=0, cat='Integer') \n",
    "        \n",
    "\n",
    "        problem = pulp.LpProblem(\"Ejercico - 3\", pulp.LpMaximize) \n",
    "\n",
    "        problem += 8*Caja1+12*Caja2, \"Funcion Objetivo\" \n",
    "        problem += 4*Caja1+4*Caja2<= 200, \"1st constraint\"\n",
    "        problem += 2*Caja1+4*Caja2 <= 160, \"2nd constraint\"\n",
    "        problem += 6*Caja1+8*Caja2 <= 360, \"3d constraint\"\n",
    "\n",
    "        problem.solve()\n",
    "        lista=[]\n",
    "        print (\"Optimal Result:\")\n",
    "        for variable in problem.variables():\n",
    "            print (f'{variable.name} = {variable.varValue} unds.')\n",
    "            lista.append(variable.varValue)\n",
    "        print (\"Maximizacion Beneficio:\")\n",
    "        ingreso = value(problem.objective)\n",
    "        print (f'{ingreso}€\\n\\n')\n",
    "        \n",
    "        \n",
    "        xy1 = Interseccion()\n",
    "        xy1.punto()\n",
    "\n",
    "        xy2 = Interseccion()\n",
    "        xy2.punto()\n",
    "\n",
    "        xy3 = Interseccion()\n",
    "        xy3.punto()\n",
    "\n",
    "        \n",
    "        \n",
    "        x = np.linspace(-10,90,2000)\n",
    "        y1= (200 - 4*x)/4\n",
    "        y2= (160-2*x)/4\n",
    "        y3= (360-6*x)/8\n",
    "        y5= 0*x\n",
    "        y4= (ingreso - 8*x)/12\n",
    "\n",
    "        plt.plot(x, y2,color='orange', label=r'$4y+2x\\leq 160 $')\n",
    "        plt.plot(x, y1,'g', label=r'$4x+4y\\leq200$')\n",
    "        plt.plot(x, y3,'b', label='$8y+6x\\leq 360$')\n",
    "        plt.plot(x, y4,'k--')\n",
    "        plt.plot(x, y5,label=r'$0\\leq y $')\n",
    "        #plt.axvline(10, color='blue', label=r'$x\\leq 10 $') \n",
    "\n",
    "        plt.axvline(0,color='grey', label=r'$0\\leq x $') \n",
    "        plt.plot(int(xy1.x),int(xy1.y),\"ro\", label=f'$({int(xy1.x)},{int(xy1.y)})$')\n",
    "        plt.plot(int(xy2.x),int(xy2.y),\"ro\", label=f'$({int(xy2.x)},{int(xy2.y)})$')\n",
    "        plt.plot(int(xy3.x),int(xy3.y),\"ro\", label=f'$({int(xy3.x)},{int(xy3.y)})$')\n",
    "        #plt.plot(int(xy4.x),int(xy4.y),\"ro\", label=f'$({int(xy4.x)},{int(xy4.y)})$')\n",
    "        #plt.plot(int(xy5.x),int(xy5.y),\"ro\", label=f'$({int(xy5.x)},{int(xy5.y)})$')\n",
    "        plt.plot(0,0,\"ro\", label=f'$({0},{0})$')\n",
    "        plt.plot(lista[0],lista[1],\"ko\", label=f\"Solucion:\\n x: {lista[0]}\\n y: {lista[1]}\")\n",
    "        plt.xlim((-10, 90))\n",
    "        plt.ylim((-10, 70))\n",
    "\n",
    "        plt.fill_between(x,y1, color='green', alpha=0.2)\n",
    "        plt.fill_between(x,y2, color='orange', alpha=0.2)\n",
    "        plt.fill_between(x,y3, color='blue', alpha=0.2)\n",
    "        plt.legend(loc=\"upper left\")\n",
    "        plt.legend(bbox_to_anchor=(1.05, 1), loc=2, borderaxespad=0.)\n",
    "\n",
    "        d = np.linspace(-10,90,2000)\n",
    "\n",
    "        x,y = np.meshgrid(d,d)\n",
    "        region = plt.imshow( ((0<=y) & (0<=x) & (4*x+4*y<= 200) & (2*x+4*y <= 160) & (6*x+8*y <= 360)).astype(float) , \n",
    "                       extent=(x.min(),x.max(),y.min(),y.max()),origin=\"lower\", cmap=\"BuPu\", alpha = 0.3);\n",
    "        plt.show()\n",
    "\n",
    "\n"
   ]
  },
  {
   "cell_type": "code",
   "execution_count": 4,
   "metadata": {},
   "outputs": [],
   "source": [
    "class Solucion():\n",
    "    \n",
    "    solu = []\n",
    "    incorrecta = []\n",
    "    flag = True\n",
    "    count=0\n",
    "    x=0\n",
    "    y=0\n",
    "    puntos = []\n",
    "    def __init__(self):\n",
    "        \n",
    "        print('Presiona \"q\" para terminar de introducir los puntos a tomar')\n",
    "        while self.flag:\n",
    "\n",
    "            txt = input(\"Introduce los puntos --> (x,y): \")\n",
    "            if txt == 'q':\n",
    "                self.flag = False\n",
    "            else:\n",
    "                x = re.findall('\\d+|\\d+[^,)-+]|[-]\\d+[^,)-+]|[+]\\d+[^,)-+]', txt)\n",
    "                #rint(x)\n",
    "                #rint(int(x[0]))\n",
    "                #rint(int(x[1]))\n",
    "                \n",
    "                self.puntos.append([int(x[0]),int(x[1])])\n",
    "                \n",
    "        self.solu.append(self.s1())\n",
    "        self.solu.append(self.s2())\n",
    "        self.solu.append(self.s3())\n",
    "        print('\\n\\nLas soluciones son:\\n ')\n",
    "\n",
    "        for sol in self.solu:\n",
    "            if sol == 'Sistema 1' or sol == 'Sistema 2' or sol == 'Sistema 3':\n",
    "                print(f'\\t{sol}\\n')\n",
    "            else:\n",
    "                self.incorrecta.append(sol)\n",
    "\n",
    "        print('\\nLos Sistemas incorrectos son:\\n')\n",
    "        for inc in self.incorrecta:\n",
    "            print(f'\\t{inc}\\n')\n",
    "                    \n",
    "                \n",
    "                \n",
    "    def s1(self):\n",
    "        cunt = 0\n",
    "        for x in self.puntos:\n",
    "            \n",
    "            s1 = [2*x[0]+x[1]>=20,2*x[0]-x[1]<=20,0<=x[0]<=20]\n",
    "            count = 0\n",
    "            #sistemas= [s1,s2,s3]\n",
    "            for i,x in enumerate(s1):\n",
    "                if x == True:\n",
    "                    cunt+=1\n",
    "                else:\n",
    "                    break\n",
    "\n",
    "            if count == len(s1):\n",
    "                cunt+=1\n",
    "            else:\n",
    "                break\n",
    "        if cunt == 3:\n",
    "            return 'Sistema 1'\n",
    "        else:\n",
    "            return'Sistema 1 '\n",
    "\n",
    "    def s2(self):\n",
    "        cunt = 0\n",
    "        for x in self.puntos:\n",
    "            \n",
    "            s2 = [2*x[0]+x[1]>=20,2*x[0]-x[1]<=20,0<=x[1]<=20]\n",
    "            count = 0\n",
    "            #sistemas= [s1,s2,s3]\n",
    "            for i,x in enumerate(s2):\n",
    "                if x == True:\n",
    "                    cunt+=1\n",
    "                else:\n",
    "                    break\n",
    "\n",
    "            if count == len(s2):\n",
    "                cunt+=1\n",
    "            else:\n",
    "                break\n",
    "        if cunt == 3:\n",
    "            return 'Sistema 2'\n",
    "        else:\n",
    "            return'Sistema 2 '\n",
    "            \n",
    "    def s3(self):\n",
    "        cunt = 0\n",
    "        for x in self.puntos:\n",
    "            \n",
    "            s3 = [2*x[0]+x[1]<=20,2*x[0]-x[1]>=20,0<=x[1]<=20]\n",
    "            count = 0\n",
    "            #sistemas= [s1,s2,s3]\n",
    "            for i,x in enumerate(s3):\n",
    "                if x == True:\n",
    "                    count+=1\n",
    "                else:\n",
    "                    break\n",
    "            #print(cunt)\n",
    "            if count == len(s3):\n",
    "                cunt+=1\n",
    "            else:\n",
    "                break\n",
    "        #rint(cunt)\n",
    "        if cunt == 3:\n",
    "            return 'Sistema 3'\n",
    "        else:\n",
    "            return'Sistema 3 '\n",
    "            \n",
    "            \n",
    "\n",
    " ## MEJORAR CON OPERATOR Y REGEX PARA ASI PODERLO UTILIZAR CON CUALQUIER SISTEMA\n",
    "## UNIRLO CON EL DE INTERSECCION Y CREAR UNA PARA LA REGION FACTIBLE\n"
   ]
  },
  {
   "cell_type": "markdown",
   "metadata": {},
   "source": [
    "# MA2 - Práctica 2.1: Programación lineal <a name=\"2.1\"></a>"
   ]
  },
  {
   "cell_type": "markdown",
   "metadata": {},
   "source": [
    "### **Ejercicio 1** <a name=\"2.1.1\"></a>\n",
    "\n",
    "> Dadas las siguientes restricciones:\n",
    "            \n",
    "               0≤ x ≤ 10\n",
    "\n",
    "               x ≤ y\n",
    "\n",
    "               y-2x ≤ 6\n",
    "       \n",
    "> Representa la región limitada por dichas inecuaciones y calcula sus vértices\n",
    "\n"
   ]
  },
  {
   "cell_type": "code",
   "execution_count": 33,
   "metadata": {},
   "outputs": [
    {
     "name": "stdout",
     "output_type": "stream",
     "text": [
      "Presiona \"q\" para terminar de introducir los segmentos a tomar\n",
      "Introduce la ecuacion: x=0\n",
      "Introduce la ecuacion: x=y\n",
      "Introduce la ecuacion: q\n",
      "Presiona \"q\" para terminar de introducir los segmentos a tomar\n",
      "Introduce la ecuacion: x=10\n",
      "Introduce la ecuacion: x=y\n",
      "Introduce la ecuacion: q\n",
      "Presiona \"q\" para terminar de introducir los segmentos a tomar\n",
      "Introduce la ecuacion: x=0\n",
      "Introduce la ecuacion: y-2x=6\n",
      "Introduce la ecuacion: q\n",
      "Presiona \"q\" para terminar de introducir los segmentos a tomar\n",
      "Introduce la ecuacion: x=10\n",
      "Introduce la ecuacion: y-2x=6\n",
      "Introduce la ecuacion: q\n"
     ]
    },
    {
     "data": {
      "image/png": "[encoded data removed]",
      "text/plain": [
       "<Figure size 432x288 with 1 Axes>"
      ]
     },
     "metadata": {
      "needs_background": "light"
     },
     "output_type": "display_data"
    }
   ],
   "source": [
    "\n",
    "xy1 = Interseccion()\n",
    "xy1.punto()\n",
    "\n",
    "xy2 = Interseccion()\n",
    "xy2.punto()\n",
    "\n",
    "xy3 = Interseccion()\n",
    "xy3.punto()\n",
    "\n",
    "xy4 = Interseccion()\n",
    "xy4.punto()\n",
    "\n",
    "x = np.linspace(-10,30,2000)\n",
    "y1= 6+2*x\n",
    "y2= x\n",
    "y3=0*x\n",
    "plt.plot(x, y1,color='green', label=r'$y-2x\\leq 6 $')\n",
    "plt.plot(x, y2,'r', label=r'$x\\leq y$')\n",
    "plt.plot(x, y3,'--')\n",
    "plt.axvline(10, color='blue', label=r'$x\\leq 10 $') \n",
    "plt.axvline(0,color='grey', label=r'$0\\leq x $') \n",
    "plt.plot(int(xy1.x),int(xy1.y),\"ro\", label=f'$({int(xy1.x)},{int(xy1.y)})$')\n",
    "plt.plot(int(xy2.x),int(xy2.y),\"ro\", label=f'$({int(xy2.x)},{int(xy2.y)})$')\n",
    "plt.plot(int(xy3.x),int(xy3.y),\"ro\", label=f'$({int(xy3.x)},{int(xy3.y)})$')\n",
    "plt.plot(int(xy4.x),int(xy4.y),\"ro\", label=f'$({int(xy4.x)},{int(xy4.y)})$')\n",
    "plt.xlim((-10, 30))\n",
    "plt.ylim((-10, 30))\n",
    "\n",
    "\n",
    "#plt.legend(loc=\"upper left\")\n",
    "plt.legend(bbox_to_anchor=(1.05, 1), loc=2, borderaxespad=0.)\n",
    "\n",
    "d = np.linspace(-10,30,2000)\n",
    "\n",
    "x,y = np.meshgrid(d,d)\n",
    "region = plt.imshow( ((0<=x) & (x<=10) & (x<=y) & (y-2*x<= 6)).astype(float) , \n",
    "               extent=(x.min(),x.max(),y.min(),y.max()),origin=\"lower\", cmap=\"BuPu\", alpha = 0.3);\n",
    "plt.show()\n"
   ]
  },
  {
   "cell_type": "markdown",
   "metadata": {},
   "source": [
    "### Ejercicio 2 <a name=\"2.1.2\"></a>\n",
    "\n",
    "> Dada la siguiente región factible:\n",
    "\n",
    "![alt text](http://agrega.juntadeandalucia.es/repositorio/12062019/27/es-an_2019061212_9125600/programacion_lineal.png \"Region Factible\")\n",
    "\n",
    ">  y justifica de cuál de los siguientes sistemas de inecuaciones es solución:\n",
    "\n",
    "<table class=\"table\">\n",
    "  <thead>\n",
    "    <tr>\n",
    "      <th scope=\"col\">#</th>\n",
    "      <th scope=\"col\">Sistema 1</th>\n",
    "      <th scope=\"col\">Sistema 2</th>\n",
    "      <th scope=\"col\">Sistema 3</th>\n",
    "    </tr>\n",
    "  </thead>\n",
    "  <tbody>\n",
    "    <tr>\n",
    "      <th scope=\"row\">1</th>\n",
    "      <td>2x+y≥20</td>\n",
    "      <td>2x+y≥20</td>\n",
    "      <td>2x+y≤20</td>\n",
    "    </tr>\n",
    "    <tr>\n",
    "      <th scope=\"row\">2</th>\n",
    "      <td>2x-y≤20</td>\n",
    "      <td>2x-y≤20</td>\n",
    "      <td>2x-y≥20</td>\n",
    "    </tr>\n",
    "    <tr>\n",
    "      <th scope=\"row\">3</th>\n",
    "      <td>0≤x≤20</td>\n",
    "      <td>0≤y≤20</td>\n",
    "      <td>0≤y≤20</td>\n",
    "    </tr>\n",
    "  </tbody>\n",
    "</table>"
   ]
  },
  {
   "cell_type": "code",
   "execution_count": 6,
   "metadata": {},
   "outputs": [
    {
     "name": "stdout",
     "output_type": "stream",
     "text": [
      "Presiona \"q\" para terminar de introducir los puntos a tomar\n",
      "Introduce los puntos --> (x,y): 0,20\n",
      "Introduce los puntos --> (x,y): 20,20\n",
      "Introduce los puntos --> (x,y): 10,0\n",
      "Introduce los puntos --> (x,y): q\n",
      "\n",
      "\n",
      "Las soluciones son:\n",
      " \n",
      "\tSistema 1\n",
      "\n",
      "\tSistema 2\n",
      "\n",
      "\n",
      "Los Sistemas incorrectos son:\n",
      "\n",
      "\tSistema 3 \n",
      "\n"
     ]
    }
   ],
   "source": [
    "    \n",
    "sistemas = Solucion()"
   ]
  },
  {
   "cell_type": "markdown",
   "metadata": {},
   "source": [
    "### Ejercicio 3 <a name=\"2.1.3\"></a>\n",
    "\n",
    "> Maximiza y minimiza la función F(x,y)=2x+3y con las siguientes restricciones:\n",
    "\n",
    "\n",
    "<div class=\"container\">\n",
    "  <div class=\"top\">\n",
    "    <span class=\"dot\"></span>\n",
    "    <span class=\"dot\"></span>\n",
    "    <span class=\"dot\"></span>\n",
    "  </div>\n",
    "\n",
    "  <div class=\"content\">\n",
    "    <h3>Constraints</h3>\n",
    "      \n",
    "        x ≥0\n",
    "\n",
    "       y ≥ 0\n",
    "\n",
    "       x+y ≥ 3\n",
    "\n",
    "       x+2y ≤ 6\n",
    "      \n",
    "  </div>\n",
    "</div>\n",
    "\n"
   ]
  },
  {
   "cell_type": "markdown",
   "metadata": {},
   "source": [
    "#### MAXIMIZACION\n"
   ]
  },
  {
   "cell_type": "code",
   "execution_count": 13,
   "metadata": {},
   "outputs": [
    {
     "name": "stdout",
     "output_type": "stream",
     "text": [
      "Optimal Result:\n",
      "x = 6.0\n",
      "y = 0.0\n",
      "Maximizacion\n",
      "12.0\n",
      "\n",
      "\n",
      "Presiona \"q\" para terminar de introducir los segmentos a tomar\n",
      "Introduce la ecuacion: x=0\n",
      "Introduce la ecuacion: x+y=3\n",
      "Introduce la ecuacion: q\n",
      "Presiona \"q\" para terminar de introducir los segmentos a tomar\n",
      "Introduce la ecuacion: y=0\n",
      "Introduce la ecuacion: x+y=3\n",
      "Introduce la ecuacion: q\n",
      "Presiona \"q\" para terminar de introducir los segmentos a tomar\n",
      "Introduce la ecuacion: x=0\n",
      "Introduce la ecuacion: x+2y=6\n",
      "Introduce la ecuacion: q\n",
      "Presiona \"q\" para terminar de introducir los segmentos a tomar\n",
      "Introduce la ecuacion: y=0\n",
      "Introduce la ecuacion: x+2y=6\n",
      "Introduce la ecuacion: q\n"
     ]
    },
    {
     "data": {
      "image/png": "[encoded data removed]",
      "text/plain": [
       "<Figure size 432x288 with 1 Axes>"
      ]
     },
     "metadata": {
      "needs_background": "light"
     },
     "output_type": "display_data"
    },
    {
     "data": {
      "text/plain": [
       "<__main__.Max at 0x5ec5794a88>"
      ]
     },
     "execution_count": 13,
     "metadata": {},
     "output_type": "execute_result"
    }
   ],
   "source": [
    "Max()\n"
   ]
  },
  {
   "cell_type": "markdown",
   "metadata": {},
   "source": [
    "#### MINIMIZACION\n"
   ]
  },
  {
   "cell_type": "code",
   "execution_count": 5,
   "metadata": {},
   "outputs": [
    {
     "name": "stderr",
     "output_type": "stream",
     "text": [
      "C:\\Anaconda3\\lib\\site-packages\\pulp\\pulp.py:1137: UserWarning: Spaces are not permitted in the name. Converted to '_'\n",
      "  warnings.warn(\"Spaces are not permitted in the name. Converted to '_'\")\n"
     ]
    },
    {
     "name": "stdout",
     "output_type": "stream",
     "text": [
      "Optimal Result:\n",
      "x = 3.0\n",
      "y = 0.0\n",
      "Minimizacion\n",
      "6.0\n",
      "\n",
      "\n",
      "Presiona \"q\" para terminar de introducir los segmentos a tomar\n",
      "Introduce la ecuacion: x=0\n",
      "Introduce la ecuacion: x+y=3\n",
      "Introduce la ecuacion: q\n",
      "Presiona \"q\" para terminar de introducir los segmentos a tomar\n",
      "Introduce la ecuacion: y=0\n",
      "Introduce la ecuacion: x+y=3\n",
      "Introduce la ecuacion: q\n",
      "Presiona \"q\" para terminar de introducir los segmentos a tomar\n",
      "Introduce la ecuacion: x=0\n",
      "Introduce la ecuacion: x+2y=6\n",
      "Introduce la ecuacion: q\n",
      "Presiona \"q\" para terminar de introducir los segmentos a tomar\n",
      "Introduce la ecuacion: y=0\n",
      "Introduce la ecuacion: x+2y=6\n",
      "Introduce la ecuacion: q\n"
     ]
    },
    {
     "data": {
      "image/png": "[encoded data removed]",
      "text/plain": [
       "<Figure size 432x288 with 1 Axes>"
      ]
     },
     "metadata": {
      "needs_background": "light"
     },
     "output_type": "display_data"
    },
    {
     "data": {
      "text/plain": [
       "<__main__.Min at 0xdca3a283c8>"
      ]
     },
     "execution_count": 5,
     "metadata": {},
     "output_type": "execute_result"
    }
   ],
   "source": [
    "Min()\n"
   ]
  },
  {
   "cell_type": "markdown",
   "metadata": {},
   "source": [
    "### Ejercicio 4 <a name=\"2.1.4\"></a>\n",
    "\n",
    "> Un fabricante diseña pantalones y camisas. Para ello dispone de 50 metros de tejido de algodón y 124 metros de tejido de lino. Cada pantalón precisa 0’75 metros de algodón y 2 metros de lino. Para cada camisa se necesitan 0’5 metros de algodón y 1 metro de lino. El precio de mercado del pantalón es de 40 € y el de la camisa de 25 €. Se trata de encontrar el número de pantalones y camisas que debe diseñar el fabricante para obtener unos ingresos máximos.\n",
    "\n",
    "> a) Completa la siguiente tabla con los datos del problema.\n",
    "\n",
    "\n",
    "<table class=\"table\">\n",
    "  <thead>\n",
    "    <tr>\n",
    "      <th scope=\"col\"> </th>\n",
    "      <th scope=\"col\">Metros de Algodon</th>\n",
    "      <th scope=\"col\">Metros de Lino</th>\n",
    "    </tr>\n",
    "  </thead>\n",
    "  <tbody>\n",
    "    <tr>\n",
    "      <th scope=\"row\">Pantalon</th>\n",
    "      <td>0.7x</td>\n",
    "      <td>2x</td>\n",
    "    </tr>\n",
    "    <tr>\n",
    "      <th scope=\"row\">Camiseta</th>\n",
    "      <td>0.5y</td>\n",
    "      <td>y</td>\n",
    "    </tr>\n",
    "  </tbody>\n",
    "</table>\n",
    "\n",
    "\n",
    "\n"
   ]
  },
  {
   "cell_type": "markdown",
   "metadata": {},
   "source": [
    "> b) Elige las incógnitas convenientemente y escribe las restricciones del problema .\n"
   ]
  },
  {
   "cell_type": "code",
   "execution_count": 26,
   "metadata": {},
   "outputs": [
    {
     "name": "stdout",
     "output_type": "stream",
     "text": [
      "RESTRINGCIONES:\n",
      "\n"
     ]
    },
    {
     "data": {
      "image/png": "[encoded data removed]",
      "text/latex": [
       "$\\displaystyle 0 \\leq x \\wedge x < \\infty$"
      ],
      "text/plain": [
       "0 ≤ x ∧ x < ∞"
      ]
     },
     "metadata": {},
     "output_type": "display_data"
    },
    {
     "data": {
      "image/png": "[encoded data removed]",
      "text/latex": [
       "$\\displaystyle 0 \\leq y \\wedge y < \\infty$"
      ],
      "text/plain": [
       "0 ≤ y ∧ y < ∞"
      ]
     },
     "metadata": {},
     "output_type": "display_data"
    },
    {
     "data": {
      "image/png": "[encoded data removed]",
      "text/latex": [
       "$\\displaystyle x \\leq 66.6666666666667 - 0.666666666666667 y \\wedge -\\infty < x$"
      ],
      "text/plain": [
       "x ≤ 66.6666666666667 - 0.666666666666667⋅y ∧ -∞ < x"
      ]
     },
     "metadata": {},
     "output_type": "display_data"
    },
    {
     "data": {
      "image/png": "[encoded data removed]",
      "text/latex": [
       "$\\displaystyle x \\leq 25 - \\frac{y}{2} \\wedge -\\infty < x$"
      ],
      "text/plain": [
       "         y         \n",
       "x ≤ 25 - ─ ∧ -∞ < x\n",
       "         2         "
      ]
     },
     "metadata": {},
     "output_type": "display_data"
    }
   ],
   "source": [
    "x,y = sp.symbols('x y')\n",
    "from sympy.solvers.inequalities import reduce_inequalities\n",
    "\n",
    "\n",
    "eq1 = sp.Function('eq1')\n",
    "eq2 = sp.Function('eq2')\n",
    "eq3 = sp.Function('eq3')\n",
    "eq4 = sp.Function('eq4')\n",
    "\n",
    "\n",
    "eq1 = reduce_inequalities(x>=0)\n",
    "eq2 = reduce_inequalities(y>=0)\n",
    "eq3 = reduce_inequalities(0.75*x+0.5*y<=50, x)\n",
    "eq4 = reduce_inequalities(2*x+y<=50, x)\n",
    "\n",
    "print('RESTRINGCIONES:\\n')\n",
    "display(eq1)\n",
    "display(eq2)\n",
    "display(eq3)\n",
    "display(eq4)\n",
    "\n"
   ]
  },
  {
   "cell_type": "markdown",
   "metadata": {},
   "source": [
    "> c) Escribe la función objetivo."
   ]
  },
  {
   "cell_type": "markdown",
   "metadata": {},
   "source": [
    "### F(x,y)=40x+25y\n",
    "\n",
    "\n"
   ]
  },
  {
   "cell_type": "code",
   "execution_count": 5,
   "metadata": {},
   "outputs": [
    {
     "name": "stderr",
     "output_type": "stream",
     "text": [
      "C:\\Anaconda3\\lib\\site-packages\\pulp\\pulp.py:1137: UserWarning: Spaces are not permitted in the name. Converted to '_'\n",
      "  warnings.warn(\"Spaces are not permitted in the name. Converted to '_'\")\n"
     ]
    },
    {
     "name": "stdout",
     "output_type": "stream",
     "text": [
      "Optimal Result:\n",
      "Camisas = 124.0 unds.\n",
      "Pantalones = 0.0 unds.\n",
      "Maximizacion Beneficio:\n",
      "3100.0€\n",
      "\n",
      "\n",
      "Presiona \"q\" para terminar de introducir los segmentos a tomar\n",
      "Introduce la ecuacion: x=0\n",
      "Introduce la ecuacion: 75x+50y=5000\n",
      "Introduce la ecuacion: q\n",
      "Presiona \"q\" para terminar de introducir los segmentos a tomar\n",
      "Introduce la ecuacion: y=0\n",
      "Introduce la ecuacion: 75x+50y=5000\n",
      "Introduce la ecuacion: q\n",
      "Presiona \"q\" para terminar de introducir los segmentos a tomar\n",
      "Introduce la ecuacion: x=0\n",
      "Introduce la ecuacion: 2000x+1000y=124000\n",
      "Introduce la ecuacion: q\n",
      "Presiona \"q\" para terminar de introducir los segmentos a tomar\n",
      "Introduce la ecuacion: y=0\n",
      "Introduce la ecuacion: 2000x+1000y=124000\n",
      "Introduce la ecuacion: q\n",
      "Presiona \"q\" para terminar de introducir los segmentos a tomar\n",
      "Introduce la ecuacion: 2000x+1000y=124000\n",
      "Introduce la ecuacion: 75x+50y=5000\n",
      "Introduce la ecuacion: q\n"
     ]
    },
    {
     "data": {
      "image/png": "[encoded data removed]",
      "text/plain": [
       "<Figure size 432x288 with 1 Axes>"
      ]
     },
     "metadata": {
      "needs_background": "light"
     },
     "output_type": "display_data"
    },
    {
     "data": {
      "text/plain": [
       "<__main__.Max_4 at 0x794f9bf388>"
      ]
     },
     "execution_count": 5,
     "metadata": {},
     "output_type": "execute_result"
    }
   ],
   "source": [
    "Max_4()"
   ]
  },
  {
   "cell_type": "markdown",
   "metadata": {},
   "source": [
    "********************************************"
   ]
  },
  {
   "cell_type": "markdown",
   "metadata": {},
   "source": [
    "# MA2 - Tarea 2.2: ¿Dulcero o goloso? <a name=\"2.2\"></a>"
   ]
  },
  {
   "cell_type": "markdown",
   "metadata": {},
   "source": [
    "### Ejercicio 1"
   ]
  },
  {
   "cell_type": "markdown",
   "metadata": {},
   "source": [
    ">En un obrador tradicional han decidido sustituir la propanga en papel por la propaganda por redes sociales y correo electrónico. Recientemente han enviado una oferta de cupcakes, ofertando a su clientela dos tipos: el primero como decoración solo tiene glasesado y el segundo tipo incluye un relleno y algún trozo de fruta de temporada.\n",
    "\n",
    ">Además, se venden por cajas de dos formatos: para dulceros y para golosos, como puedes ver en su propaganda:\n",
    "\n",
    "  "
   ]
  },
  {
   "cell_type": "code",
   "execution_count": 7,
   "metadata": {},
   "outputs": [
    {
     "data": {
      "text/html": [
       "\n",
       "        <iframe\n",
       "            width=\"100%\"\n",
       "            height=\"350\"\n",
       "            src=\"https://view.genial.ly/5ca22e42729926491686b63b\"\n",
       "            frameborder=\"0\"\n",
       "            allowfullscreen\n",
       "        ></iframe>\n",
       "        "
      ],
      "text/plain": [
       "<IPython.lib.display.IFrame at 0xa8e4264308>"
      ]
     },
     "execution_count": 7,
     "metadata": {},
     "output_type": "execute_result"
    }
   ],
   "source": [
    "from IPython.display import IFrame\n",
    "IFrame('https://view.genial.ly/5ca22e42729926491686b63b', width='100%', height=350)"
   ]
  },
  {
   "cell_type": "code",
   "execution_count": 8,
   "metadata": {},
   "outputs": [
    {
     "data": {
      "text/html": [
       "\n",
       "        <iframe\n",
       "            width=\"100%\"\n",
       "            height=\"350\"\n",
       "            src=\"https://view.genial.ly/5ca2330c729926491686bcf4\"\n",
       "            frameborder=\"0\"\n",
       "            allowfullscreen\n",
       "        ></iframe>\n",
       "        "
      ],
      "text/plain": [
       "<IPython.lib.display.IFrame at 0xa8e3cfafc8>"
      ]
     },
     "execution_count": 8,
     "metadata": {},
     "output_type": "execute_result"
    }
   ],
   "source": [
    "IFrame('https://view.genial.ly/5ca2330c729926491686bcf4', width='100%', height=350)"
   ]
  },
  {
   "cell_type": "markdown",
   "metadata": {},
   "source": [
    ">Si actualmente en el obrador hay 200 cupcakes del tipo 1 y 160 del tipo 2. Calcula de forma razonada cuántas cajas han de vender de cada tipo para que el beneficio sea máximo. Para ello sigue los siguientes pasos:\n",
    "\n",
    "+ Elige las incógnitas convenientemente y escribe las restricciones del problema .\n"
   ]
  },
  {
   "cell_type": "markdown",
   "metadata": {},
   "source": [
    "|        \t| cupcakes1 \t| cupcakes2 \t| TOTAL \t|  €  \t|\n",
    "|:------:\t|:---------:\t|:---------:\t|:-----:\t|:---:\t|\n",
    "| Caja 1 \t|     4X    \t|     2X    \t|   6X  \t|  8X \t|\n",
    "|  Caja2 \t|     4Y    \t|     4Y    \t|   8Y  \t| 12Y \t|\n",
    "| Oferta \t|    200    \t|    160    \t|  360  \t|     \t|"
   ]
  },
  {
   "cell_type": "code",
   "execution_count": 5,
   "metadata": {},
   "outputs": [
    {
     "name": "stdout",
     "output_type": "stream",
     "text": [
      "RESTRINGCIONES:\n",
      "\n"
     ]
    },
    {
     "data": {
      "image/png": "[encoded data removed]",
      "text/latex": [
       "$\\displaystyle 0 \\leq x \\wedge x < \\infty$"
      ],
      "text/plain": [
       "0 ≤ x ∧ x < ∞"
      ]
     },
     "metadata": {},
     "output_type": "display_data"
    },
    {
     "data": {
      "image/png": "[encoded data removed]",
      "text/latex": [
       "$\\displaystyle 0 \\leq y \\wedge y < \\infty$"
      ],
      "text/plain": [
       "0 ≤ y ∧ y < ∞"
      ]
     },
     "metadata": {},
     "output_type": "display_data"
    },
    {
     "data": {
      "image/png": "[encoded data removed]",
      "text/latex": [
       "$\\displaystyle x \\leq 50 - y \\wedge -\\infty < x$"
      ],
      "text/plain": [
       "x ≤ 50 - y ∧ -∞ < x"
      ]
     },
     "metadata": {},
     "output_type": "display_data"
    },
    {
     "data": {
      "image/png": "[encoded data removed]",
      "text/latex": [
       "$\\displaystyle x \\leq 80 - 2 y \\wedge -\\infty < x$"
      ],
      "text/plain": [
       "x ≤ 80 - 2⋅y ∧ -∞ < x"
      ]
     },
     "metadata": {},
     "output_type": "display_data"
    },
    {
     "data": {
      "image/png": "[encoded data removed]",
      "text/latex": [
       "$\\displaystyle x \\leq 60 - \\frac{4 y}{3} \\wedge -\\infty < x$"
      ],
      "text/plain": [
       "         4⋅y         \n",
       "x ≤ 60 - ─── ∧ -∞ < x\n",
       "          3          "
      ]
     },
     "metadata": {},
     "output_type": "display_data"
    }
   ],
   "source": [
    "x,y,z = sp.symbols('x y z')\n",
    "from sympy.solvers.inequalities import reduce_inequalities\n",
    "\n",
    "\n",
    "eq1 = sp.Function('eq1')\n",
    "eq2 = sp.Function('eq2')\n",
    "eq3 = sp.Function('eq3')\n",
    "eq4 = sp.Function('eq4')\n",
    "\n",
    "\n",
    "eq1 = reduce_inequalities(x>=0)\n",
    "eq2 = reduce_inequalities(y>=0)\n",
    "eq3 = reduce_inequalities(4*x + 4*y<=200, [x])\n",
    "eq4 = reduce_inequalities(2*x + 4*y<=160, [x])\n",
    "eq5 = reduce_inequalities(6*x + 8*y<=360, [x])\n",
    "\n",
    "print('RESTRINGCIONES:\\n')\n",
    "display(eq1)\n",
    "display(eq2)\n",
    "display(eq3)\n",
    "display(eq4)\n",
    "display(eq5)"
   ]
  },
  {
   "cell_type": "markdown",
   "metadata": {},
   "source": [
    "+ Escribe la función objetivo.\n"
   ]
  },
  {
   "cell_type": "markdown",
   "metadata": {},
   "source": [
    "### F(x,y)=8x+12y"
   ]
  },
  {
   "cell_type": "markdown",
   "metadata": {},
   "source": [
    "----\n",
    "+ Representa la región factible y calcula sus vértices.\n",
    "+ Evalúa la función objetivo en dichos vértices y decide cuál es la opción que nos da el beneficio máximo."
   ]
  },
  {
   "cell_type": "code",
   "execution_count": 5,
   "metadata": {},
   "outputs": [
    {
     "name": "stderr",
     "output_type": "stream",
     "text": [
      "C:\\Anaconda3\\lib\\site-packages\\pulp\\pulp.py:1137: UserWarning: Spaces are not permitted in the name. Converted to '_'\n",
      "  warnings.warn(\"Spaces are not permitted in the name. Converted to '_'\")\n"
     ]
    },
    {
     "name": "stdout",
     "output_type": "stream",
     "text": [
      "Optimal Result:\n",
      "Caja1 = 20.0 unds.\n",
      "Caja2 = 30.0 unds.\n",
      "Maximizacion Beneficio:\n",
      "520.0€\n",
      "\n",
      "\n",
      "Presiona \"q\" para terminar de introducir los segmentos a tomar\n",
      "Introduce la ecuacion: 4y+4x=200\n",
      "Introduce la ecuacion: 4y+2x=160\n",
      "Introduce la ecuacion: q\n",
      "Presiona \"q\" para terminar de introducir los segmentos a tomar\n",
      "Introduce la ecuacion: 4y+2x=160\n",
      "Introduce la ecuacion: x=0\n",
      "Introduce la ecuacion: q\n",
      "Presiona \"q\" para terminar de introducir los segmentos a tomar\n",
      "Introduce la ecuacion: 4y+4x=200\n",
      "Introduce la ecuacion: y=0\n",
      "Introduce la ecuacion: q\n"
     ]
    },
    {
     "data": {
      "image/png": "[encoded data removed]",
      "text/plain": [
       "<Figure size 432x288 with 1 Axes>"
      ]
     },
     "metadata": {
      "needs_background": "light"
     },
     "output_type": "display_data"
    },
    {
     "data": {
      "text/plain": [
       "<__main__.Max_u2 at 0x96f159cc88>"
      ]
     },
     "execution_count": 5,
     "metadata": {},
     "output_type": "execute_result"
    }
   ],
   "source": [
    "Max_u2()"
   ]
  },
  {
   "cell_type": "markdown",
   "metadata": {},
   "source": [
    "----"
   ]
  },
  {
   "cell_type": "markdown",
   "metadata": {},
   "source": [
    "# MA2 - Tarea 2.3: Con la ayuda de la tecnología, mejor <a name=\"2.3\"></a>"
   ]
  },
  {
   "cell_type": "markdown",
   "metadata": {},
   "source": [
    "### Ejercicio 1\n",
    "\n",
    ">En primer lugar debes familiarizarte con las dos aplicaciones. Por este motivo te recomendamos que visites la página web de cada una pulsando sobre su logotipo. Además, dispones de material de ayuda compuesto por vídeos, manuales y ejemplos en el apartado \"Contenidos y ayuda\".\n",
    "\n",
    ">El siguiente paso será elaborar el contenido de la tarea que deberás entregar, y que a continuación te detallamos:\n",
    "\n",
    "\n",
    "   + El objetivo es que describas paso a paso cómo realizar con las dos herramientas algunos ejemplos que te proponemos más abajo.\n",
    "\n",
    "\n",
    "   + Puedes utilizar soporte escrito (presentación, documento, etc) o un vídeo.\n",
    "\n",
    "\n",
    "   + En el caso de que hayas elegido el soporte escrito debe contener necesariamente: una explicación detallada de cada paso que realices, varias capturas de pantalla que acompañen al texto y donde se aprecie el proceso que vas siguiendo y el resultado final del problema.\n",
    "\n",
    "\n",
    "   + En el caso de que hayas elegido realizar un vídeo, se debe apreciar todo el proceso que has seguido hasta llegar a la solución final, con el sonido de los comentarios explicativos que realices. Al principio del vídeo debes identificarte indicando tu nombre.\n",
    "\n",
    "\n",
    "   + Para que te resulte más fácil te proponemos los ejemplos que debes realizar. No es necesario que realices los cuatro problemas, pero sí debes elegir al menos 1 problema para resolverlo con cada aplicación.\n",
    "\n",
    "\n",
    "   + Por lo tanto, se trata de que a través de varios ejemplos expliques el funcionamiento de estas dos aplicaciones informáticas. \n"
   ]
  },
  {
   "cell_type": "markdown",
   "metadata": {},
   "source": [
    "![alt text](http://agrega.juntadeandalucia.es/repositorio/12062019/ec/es-an_2019061212_9130215/Imagen_Problemas.png \"Tarea\")"
   ]
  },
  {
   "cell_type": "markdown",
   "metadata": {},
   "source": [
    "***"
   ]
  },
  {
   "cell_type": "markdown",
   "metadata": {},
   "source": [
    "\n",
    "#### Utilizando Matplotlib <a name=\"2.3.5\"></a>"
   ]
  },
  {
   "cell_type": "code",
   "execution_count": 52,
   "metadata": {},
   "outputs": [
    {
     "data": {
      "image/png": "[encoded data removed]",
      "text/plain": [
       "<Figure size 432x288 with 1 Axes>"
      ]
     },
     "metadata": {
      "needs_background": "light"
     },
     "output_type": "display_data"
    }
   ],
   "source": [
    "x = np.linspace(-10,50,2000)\n",
    "y1 = (10 -3*x)/-6\n",
    "y2 = (6+x)/4\n",
    "y3= 0*x\n",
    "\n",
    "plt.plot(x, y2,color='orange', label=r'$4y-x\\leq6$')\n",
    "plt.plot(x, y1,'g', label=r'$-6y+3x\\geq10$')\n",
    "\n",
    "plt.plot(x, y3,'k--')\n",
    "\n",
    "plt.axvline(0,color='grey', label=r'$0\\leq x $') \n",
    "\n",
    "plt.xlim((-10, 50))\n",
    "plt.ylim((-10, 10))\n",
    "\n",
    "plt.fill_between(x,y1, color='green', alpha=0.2)\n",
    "plt.fill_between(x,y2, color='orange', alpha=0.2)\n",
    "plt.fill_between(x,y3, color='blue', alpha=0.2)\n",
    "\n",
    "plt.legend(loc=\"upper left\")\n",
    "plt.legend(bbox_to_anchor=(1.05, 1), loc=2, borderaxespad=0.)\n",
    "\n",
    "d = np.linspace(-10,50,2000)\n",
    "\n",
    "x,y = np.meshgrid(d,d)\n",
    "region = plt.imshow( ((0>=y) & (0<=x) & (3*x-6*y>=10) & (-x+4*y <=6)).astype(float) , \n",
    "               extent=(x.min(),x.max(),y.min(),y.max()),origin=\"lower\", cmap=\"BuPu\", alpha = 0.3);\n",
    "plt.show()"
   ]
  },
  {
   "cell_type": "markdown",
   "metadata": {},
   "source": [
    "***"
   ]
  },
  {
   "cell_type": "markdown",
   "metadata": {},
   "source": [
    "\n",
    "#### Utilizando Sympy <a name=\"2.3.4\"></a>"
   ]
  },
  {
   "cell_type": "code",
   "execution_count": 18,
   "metadata": {},
   "outputs": [
    {
     "name": "stdout",
     "output_type": "stream",
     "text": [
      "A\n"
     ]
    },
    {
     "data": {
      "text/latex": [
       "$\\displaystyle \\left[\\begin{matrix}5 & 2 & -3\\\\1 & -3 & 4\\\\6 & 0 & -1\\end{matrix}\\right]$"
      ],
      "text/plain": [
       "⎡5  2   -3⎤\n",
       "⎢         ⎥\n",
       "⎢1  -3  4 ⎥\n",
       "⎢         ⎥\n",
       "⎣6  0   -1⎦"
      ]
     },
     "metadata": {},
     "output_type": "display_data"
    },
    {
     "name": "stdout",
     "output_type": "stream",
     "text": [
      "B\n"
     ]
    },
    {
     "data": {
      "text/latex": [
       "$\\displaystyle \\left[\\begin{matrix}8 & 3 & -1\\\\1 & 1 & 5\\\\-3 & 4 & 2\\end{matrix}\\right]$"
      ],
      "text/plain": [
       "⎡8   3  -1⎤\n",
       "⎢         ⎥\n",
       "⎢1   1  5 ⎥\n",
       "⎢         ⎥\n",
       "⎣-3  4  2 ⎦"
      ]
     },
     "metadata": {},
     "output_type": "display_data"
    }
   ],
   "source": [
    "A = Matrix([[5, 2, -3],[1, -3, 4],[6, 0, -1]])\n",
    "B = Matrix([[8, 3, -1], [1, 1, 5], [-3, 4, 2]])\n",
    "print('A')\n",
    "display(A)\n",
    "print('B')\n",
    "display(B)"
   ]
  },
  {
   "cell_type": "code",
   "execution_count": 27,
   "metadata": {},
   "outputs": [
    {
     "name": "stdout",
     "output_type": "stream",
     "text": [
      "AB\n"
     ]
    },
    {
     "data": {
      "text/latex": [
       "$\\displaystyle \\left[\\begin{matrix}51 & 5 & -1\\\\-7 & 16 & -8\\\\51 & 14 & -8\\end{matrix}\\right]$"
      ],
      "text/plain": [
       "⎡51  5   -1⎤\n",
       "⎢          ⎥\n",
       "⎢-7  16  -8⎥\n",
       "⎢          ⎥\n",
       "⎣51  14  -8⎦"
      ]
     },
     "metadata": {},
     "output_type": "display_data"
    },
    {
     "name": "stdout",
     "output_type": "stream",
     "text": [
      "\n",
      "\n",
      "AB_i\n"
     ]
    },
    {
     "data": {
      "text/latex": [
       "$\\displaystyle \\left[\\begin{matrix}\\frac{8}{1111} & - \\frac{13}{1111} & \\frac{12}{1111}\\\\\\frac{232}{1111} & \\frac{357}{2222} & - \\frac{415}{2222}\\\\\\frac{457}{1111} & \\frac{459}{2222} & - \\frac{851}{2222}\\end{matrix}\\right]$"
      ],
      "text/plain": [
       "⎡        -13    12  ⎤\n",
       "⎢8/1111  ────  ──── ⎥\n",
       "⎢        1111  1111 ⎥\n",
       "⎢                   ⎥\n",
       "⎢ 232    357   -415 ⎥\n",
       "⎢ ────   ────  ─────⎥\n",
       "⎢ 1111   2222   2222⎥\n",
       "⎢                   ⎥\n",
       "⎢ 457    459   -851 ⎥\n",
       "⎢ ────   ────  ─────⎥\n",
       "⎣ 1111   2222   2222⎦"
      ]
     },
     "metadata": {},
     "output_type": "display_data"
    },
    {
     "name": "stdout",
     "output_type": "stream",
     "text": [
      "\n",
      "\n",
      "Matriz Identidad\n"
     ]
    },
    {
     "data": {
      "text/latex": [
       "$\\displaystyle \\left[\\begin{matrix}1 & 0 & 0\\\\0 & 1 & 0\\\\0 & 0 & 1\\end{matrix}\\right]$"
      ],
      "text/plain": [
       "⎡1  0  0⎤\n",
       "⎢       ⎥\n",
       "⎢0  1  0⎥\n",
       "⎢       ⎥\n",
       "⎣0  0  1⎦"
      ]
     },
     "execution_count": 27,
     "metadata": {},
     "output_type": "execute_result"
    }
   ],
   "source": [
    "\n",
    "\n",
    "AB = A*B\n",
    "AB_i = AB**-1\n",
    "print('AB')\n",
    "display(AB)\n",
    "\n",
    "print('\\n')\n",
    "print('AB_i')\n",
    "display(C)\n",
    "\n",
    "print('\\n')\n",
    "print('Matriz Identidad')\n",
    "sp.eye(3)"
   ]
  },
  {
   "cell_type": "markdown",
   "metadata": {},
   "source": [
    "***"
   ]
  },
  {
   "cell_type": "markdown",
   "metadata": {},
   "source": [
    "\n",
    "#### Utilizando Numpy <a name=\"2.3.3\"></a>"
   ]
  },
  {
   "cell_type": "code",
   "execution_count": 17,
   "metadata": {},
   "outputs": [
    {
     "name": "stdout",
     "output_type": "stream",
     "text": [
      "Calcula el Rango y el Determinante:\n",
      "\n"
     ]
    },
    {
     "data": {
      "text/latex": [
       "$\\displaystyle \\left[\\begin{matrix}2 & 3 & 4\\\\1 & 4 & -2\\\\-5 & 7 & -6\\end{matrix}\\right]$"
      ],
      "text/plain": [
       "⎡2   3  4 ⎤\n",
       "⎢         ⎥\n",
       "⎢1   4  -2⎥\n",
       "⎢         ⎥\n",
       "⎣-5  7  -6⎦"
      ]
     },
     "metadata": {},
     "output_type": "display_data"
    },
    {
     "name": "stdout",
     "output_type": "stream",
     "text": [
      "\n",
      "Determinante: 196\n",
      "\n",
      "Rango: 3\n",
      "\n",
      "Resuelve el siguiente sistema:\n",
      "\n"
     ]
    },
    {
     "data": {
      "image/png": "[encoded data removed]",
      "text/latex": [
       "$\\displaystyle 5 x - y + 3 z = -1$"
      ],
      "text/plain": [
       "5⋅x - y + 3⋅z = -1"
      ]
     },
     "metadata": {},
     "output_type": "display_data"
    },
    {
     "data": {
      "image/png": "[encoded data removed]",
      "text/latex": [
       "$\\displaystyle - x + 2 y - 2 z = 9$"
      ],
      "text/plain": [
       "-x + 2⋅y - 2⋅z = 9"
      ]
     },
     "metadata": {},
     "output_type": "display_data"
    },
    {
     "data": {
      "image/png": "[encoded data removed]",
      "text/latex": [
       "$\\displaystyle 4 x + 6 y + z = 13$"
      ],
      "text/plain": [
       "4⋅x + 6⋅y + z = 13"
      ]
     },
     "metadata": {},
     "output_type": "display_data"
    },
    {
     "name": "stdout",
     "output_type": "stream",
     "text": [
      "\n",
      "Soluciones:\n",
      "\n",
      "x:3\n",
      "y:0\n",
      "z:-5\n"
     ]
    }
   ],
   "source": [
    "x,y,z = sp.symbols('x y z')\n",
    "\n",
    "print('Calcula el Rango y el Determinante:\\n')\n",
    "\n",
    "#A = Matrix([[2,3,4], [1,4,-2],[-5,7,6]])\n",
    "Aa = Matrix([[2, 3, 4],[1, 4, -2],[-5, 7, -6]])\n",
    "display(Aa)\n",
    "\n",
    "a = np.array([[2,3,4], [1,4,-2],[-5,7,6]]) \n",
    "\n",
    "print(f'\\nDeterminante: {int(np.linalg.det(a))}')\n",
    " \n",
    "print(f'\\nRango: {np.linalg.matrix_rank(a)}')\n",
    "\n",
    "\n",
    "\n",
    "\n",
    "print('\\nResuelve el siguiente sistema:\\n')\n",
    "\n",
    "eq11 = sp.Function('eq11')\n",
    "eq22 = sp.Function('eq22')\n",
    "eq33 = sp.Function('eq33')\n",
    "\n",
    "eq11 = Eq(5*x-1*y+3*z,-1)\n",
    "eq22 = Eq(-1*x+2*y-2*z,9)\n",
    "eq33 = Eq(4*x+6*y+1*z,13)\n",
    "\n",
    "display(eq11)\n",
    "display(eq22)\n",
    "display(eq33)\n",
    "\n",
    "A = np.array([[5, -1, 3],\n",
    "              [-1, 2, -2],\n",
    "              [4, 6, 1]])\n",
    "B = np.array([-1, 9, 13])\n",
    "\n",
    "x = np.linalg.solve(A, B)\n",
    "\n",
    "print('\\nSoluciones:\\n')\n",
    "print(f'x:{int(x[0])}\\ny:{int(x[1])}\\nz:{int(x[2])}')"
   ]
  },
  {
   "cell_type": "markdown",
   "metadata": {},
   "source": [
    "----\n",
    "\n",
    "#### Utilizando Matrix Mathway <a name=\"2.3.1\"></a>"
   ]
  },
  {
   "cell_type": "code",
   "execution_count": 1,
   "metadata": {},
   "outputs": [
    {
     "data": {
      "text/html": [
       "\n",
       "        <iframe\n",
       "            width=\"100%\"\n",
       "            height=\"650\"\n",
       "            src=\"https://www.mathway.com/es/Algebra\"\n",
       "            frameborder=\"0\"\n",
       "            allowfullscreen\n",
       "        ></iframe>\n",
       "        "
      ],
      "text/plain": [
       "<IPython.lib.display.IFrame at 0x141fd77708>"
      ]
     },
     "execution_count": 1,
     "metadata": {},
     "output_type": "execute_result"
    }
   ],
   "source": [
    "from IPython.display import IFrame\n",
    "IFrame('https://www.mathway.com/es/Algebra', width='100%', height=650)"
   ]
  },
  {
   "cell_type": "markdown",
   "metadata": {},
   "source": [
    "----\n",
    "\n",
    "#### Utilizando Matrix Calculator <a name=\"2.3.2\"></a>"
   ]
  },
  {
   "cell_type": "code",
   "execution_count": 2,
   "metadata": {},
   "outputs": [
    {
     "data": {
      "text/html": [
       "\n",
       "        <iframe\n",
       "            width=\"100%\"\n",
       "            height=\"650\"\n",
       "            src=\"https://matrixcalc.org/es/\"\n",
       "            frameborder=\"0\"\n",
       "            allowfullscreen\n",
       "        ></iframe>\n",
       "        "
      ],
      "text/plain": [
       "<IPython.lib.display.IFrame at 0x141fd9e948>"
      ]
     },
     "execution_count": 2,
     "metadata": {},
     "output_type": "execute_result"
    }
   ],
   "source": [
    "IFrame('https://matrixcalc.org/es/', width='100%', height=650)"
   ]
  },
  {
   "cell_type": "markdown",
   "metadata": {},
   "source": [
    "----"
   ]
  }
 ],
 "metadata": {
  "kernelspec": {
   "display_name": "Python 3",
   "language": "python",
   "name": "python3"
  },
  "language_info": {
   "codemirror_mode": {
    "name": "ipython",
    "version": 3
   },
   "file_extension": ".py",
   "mimetype": "text/x-python",
   "name": "python",
   "nbconvert_exporter": "python",
   "pygments_lexer": "ipython3",
   "version": "3.7.6"
  }
 },
 "nbformat": 4,
 "nbformat_minor": 4
}
